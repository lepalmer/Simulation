{
 "cells": [
  {
   "cell_type": "markdown",
   "metadata": {},
   "source": [
    "Trying to use an SVR for localizations instead of chi squared\n"
   ]
  },
  {
   "cell_type": "code",
   "execution_count": 1,
   "metadata": {
    "collapsed": true
   },
   "outputs": [],
   "source": [
    "from numpy import rad2deg,deg2rad,pi,sqrt,add,array,average\n",
    "from healpy import ang2vec, newvisufunc\n",
    "import numpy as np\n",
    "from healpy import nside2npix,pix2ang\n",
    "import burstutils as bf\n",
    "#np.set_printoptions(threshold='nan')\n",
    "np.set_printoptions(threshold=np.inf)\n"
   ]
  },
  {
   "cell_type": "code",
   "execution_count": 2,
   "metadata": {
    "collapsed": true
   },
   "outputs": [],
   "source": [
    "def relative_scale(detarray):\n",
    "    \"\"\"Takes the absolute # of counts in each detector, and converts to a relative scale. \n",
    "    \"\"\"\n",
    "    \n",
    "    newverz = []\n",
    "    \n",
    "    for val in detarray:\n",
    "        if min(detarray) == max(detarray):\n",
    "            z = 0\n",
    "        else: \n",
    "            z = (val - min(detarray))/(max(detarray)-min(detarray))\n",
    "\n",
    "        newverz.append(z)\n",
    "    return newverz"
   ]
  },
  {
   "cell_type": "code",
   "execution_count": 3,
   "metadata": {
    "collapsed": true
   },
   "outputs": [],
   "source": [
    "#Needs to know how to point to healpy \n",
    "from healpy import nside2npix,pix2ang\n",
    "class Sky():\n",
    "    \"\"\"\n",
    "    Generates an array of GRB's given \n",
    "    certains strength at different sky positions.\n",
    "    \n",
    "    Output should be an array. \n",
    "    \"\"\"\n",
    "    def __init__(self,NSIDE,strength):\n",
    "\n",
    "        #depending on NSIDE, there will be anywhere from 12 to infinite spots on the sky w/ GRBs\n",
    "        self.Ao = strength\n",
    "        self.pixels = nside2npix(NSIDE)\n",
    "\n",
    "        #want to convert these pixels into theta phi coords. \n",
    "        self.sourceangs = []\n",
    "        for i in range(self.pixels):\n",
    "            self.sourceangs.append(pix2ang(NSIDE,i))\n"
   ]
  },
  {
   "cell_type": "code",
   "execution_count": 4,
   "metadata": {
    "collapsed": true
   },
   "outputs": [],
   "source": [
    "GRBs = Sky(NSIDE=32,strength=500)"
   ]
  },
  {
   "cell_type": "code",
   "execution_count": 5,
   "metadata": {
    "scrolled": true
   },
   "outputs": [
    {
     "name": "stdout",
     "output_type": "stream",
     "text": [
      "12288\n"
     ]
    }
   ],
   "source": [
    "print(len(rad2deg(GRBs.sourceangs)))"
   ]
  },
  {
   "cell_type": "code",
   "execution_count": 6,
   "metadata": {
    "collapsed": true
   },
   "outputs": [],
   "source": [
    "\n",
    "\n",
    "#sometimes one way works, sometimes another one does. Here's a workaround. \n",
    "try:\n",
    "    from NoahSim import burstutils as bf\n",
    "except:\n",
    "    import burstutils as bf\n",
    "\n",
    "from random import gauss\n",
    "import statistics as s\n",
    "import matplotlib.pyplot as plt\n",
    "\n",
    "#making classes of objects, allows for different instances of burstcube, easy to compare. \n",
    "class FastCube():\n",
    "\n",
    "    def __init__(self,background,dettilt,alternating=False):\n",
    "        if alternating == False:\n",
    "            self.tilt = deg2rad(dettilt)\n",
    "            self.tiltA = self.tiltB = self.tiltC = self.tiltD = self.tilt\n",
    "        \n",
    "        else:\n",
    "            self.tiltB = (float(input(\"Please enter the second tilt (deg) \")))\n",
    "            self.tiltB = deg2rad(self.tiltB)\n",
    "            self.tiltC = self.tiltA = deg2rad(dettilt)\n",
    "            self.tiltD = self.tiltB\n",
    "        \n",
    "        self.zenith = [0 , 0]\n",
    "        self.bg = background\n",
    "\n",
    "\n",
    "        \n",
    "    @property\n",
    "    def detA(self):\n",
    "        \"\"\"BurstCube is composed of 4 separate scintillators to detect and localize events. \n",
    "        In this software package, they are labelled A through D. \n",
    "        \"\"\"\n",
    "        return [ self.zenith[0] + self.tiltA , self.zenith[1] ]\n",
    "    @property \n",
    "    def detB(self):\n",
    "        \"\"\"BurstCube is composed of 4 separate scintillators to detect and localize events. \n",
    "        In this software package, they are labelled A through D. \n",
    "        \"\"\"\n",
    "        return [ self.zenith[0] + self.tiltB , self.zenith[1] + pi/2 ]\n",
    "    @property\n",
    "    def detC(self):\n",
    "        \"\"\"BurstCube is composed of 4 separate scintillators to detect and localize events. \n",
    "        In this software package, they are labelled A through D. \n",
    "        \"\"\"\n",
    "        return [ self.zenith[0] + self.tiltC , self.zenith[1] + pi ]\n",
    "    @property \n",
    "    def detD(self):\n",
    "        \"\"\"BurstCube is composed of 4 separate scintillators to detect and localize events. \n",
    "        In this software package, they are labelled A through D. \n",
    "        \"\"\"\n",
    "        return [ self.zenith[0] + self.tiltD , self.zenith[1] + 3*pi/2 ]\n",
    "    @property\n",
    "    def normA(self):\n",
    "        return  ang2vec(self.detA[0],self.detA[1])\n",
    "    @property \n",
    "    def normB(self):\n",
    "        return  ang2vec(self.detB[0],self.detB[1])\n",
    "    @property\n",
    "    def normC(self):\n",
    "        return  ang2vec(self.detC[0],self.detC[1])\n",
    "    @property \n",
    "    def normD(self):\n",
    "        return  ang2vec(self.detD[0],self.detD[1])\n",
    "\n",
    "    \n",
    "    @property\n",
    "    def dets(self):\n",
    "        return [self.normA,self.normB,self.normC,self.normD] \n",
    "\n",
    "    #now that the properties of burstucbe have been designed, now its time to test the model's localization capabilities    \n",
    "\n",
    "    def response2GRB(self, GRB,test=True,talk=False):   #is this how I inherit? \n",
    "\n",
    "    #first need to include the GRB.\n",
    "       \n",
    "        \"\"\"\n",
    "        Using x, respond2GRB will determine the sky position of an array of GRB sources assuming some inherent background noise within \n",
    "        detectors, along with fluctuations of either Gaussian or Poissonian nature. \n",
    "\n",
    "        Parameters\n",
    "        ----------\n",
    "        GRB : object\n",
    "            An instance of the separately defined \"GRBs\" class that contains a number of evenly spaced sky positions of a given strength. \n",
    "        \n",
    "        test : boolean \n",
    "            For sanity purposes, if the simulation seems to give unrealistic results, switching to test mode allows for much quicker sampling, allowing it easier to spot potential errors. \n",
    "        \n",
    "        \n",
    "        talk : boolean\n",
    "            If desired, prints position by position results. \n",
    "        \n",
    "        Returns\n",
    "        ----------\n",
    "        localizationerrors : array\n",
    "            numpy array that contains the average localization uncertainty at each sky position. \n",
    "        \n",
    "        Additionally, response2GRB will print the sky position it is currently sampling, along with the average offset of localizations at that spot. \n",
    "        \n",
    "        \"\"\"\n",
    "        \n",
    "        if test:\n",
    "            sample = 1\n",
    "            bottheta = 0\n",
    "            toptheta = 180\n",
    "            botphi = 0 \n",
    "            topphi = 360\n",
    "            botA = 10\n",
    "            topA = 1000\n",
    "            ntheta = 20   #over sky chi points\n",
    "            nphi = 37\n",
    "            nA = 100\n",
    "\n",
    "        else:\n",
    "            sample = len(GRB.sourceangs)   #number of GRBs you're testing\n",
    "            bottheta = 0   #zenith\n",
    "            toptheta = 120  #(elevation) range of theta values   horizon\n",
    "            ntheta = 31   #over sky chi points  #binning\n",
    "\n",
    "            botphi = 0 #azimuthal angles\n",
    "            topphi = 360\n",
    "            botA = 200  #range of amplitudes/strength of source it tries to match\n",
    "            topA = 1000   #counts above background \n",
    "            nphi = 120\n",
    "            nA = 12 \n",
    "        self.localizationerrors = []   \n",
    "        X = []\n",
    "        for i in range(len(GRB.sourceangs)):\n",
    "            \n",
    "            sourceAng = GRB.sourceangs[i]\n",
    "            if talk:\n",
    "                print(\"Testing \" + str(rad2deg(sourceAng)))\n",
    "           #this check passes.       \n",
    "\n",
    "            \n",
    "           # print(\"Testing at \" + str(np.rad2deg(GRB.sourceangs)))\n",
    "            sourcexyz = ang2vec(sourceAng[0],sourceAng[1]) #cartesian position of the burst\n",
    "                    #here's where I define how many times that is\n",
    "                \n",
    "            sepA=bf.angle(sourcexyz,self.normA)\n",
    "            xA = bf.look_up_A(self.normA,sourcexyz)\n",
    "                   # print(\"separation from A is \" + str(np.rad2deg(sepA)))\n",
    "                   #this check passes.  \n",
    "               \n",
    "            dtheoryA=GRB.Ao*bf.response(sepA,xA)  #still need to define strength, brb and gonna do that \n",
    "            if type(dtheoryA) == np.float64:\n",
    "                dtheoryA = np.array([dtheoryA])\n",
    "                   # print(\"dtheory test: \" + str(dtheory))\n",
    "                    # this check passes too. \n",
    "                    \n",
    "\n",
    "            sepB=bf.angle(sourcexyz,self.normB)\n",
    "            xB = bf.look_up_B(self.normB,sourcexyz)\n",
    "\n",
    "                   # print(\"separation from B is \" + str(np.rad2deg(sepB)))\n",
    "                   #this check passes.  \n",
    "               \n",
    "            dtheoryB=GRB.Ao*bf.response(sepB,xB)  \n",
    "                    #still need to define strength, brb and gonna do that \n",
    "            if type(dtheoryB) == np.float64:\n",
    "                dtheoryB = np.array([dtheoryB])\n",
    "\n",
    "                     \n",
    "                   # print(\"dtheory test: \" + str(dtheory))\n",
    "                    # this check passes too. \n",
    "\n",
    "                \n",
    "\n",
    "\n",
    "            sepC=bf.angle(sourcexyz,self.normC)\n",
    "                   # print(\"separation from C is \" + str(np.rad2deg(sepC)))\n",
    "                   #this check passes.  \n",
    "            xC =  bf.look_up_C(self.normC,sourcexyz)\n",
    "            dtheoryC=GRB.Ao*bf.response(sepC,xC)  #still need to define strength, brb and gonna do that \n",
    "            if type(dtheoryC) == np.float64:\n",
    "                dtheoryC = np.array([dtheoryC])\n",
    "                   # print(\"dtheory test: \" + str(dtheory))\n",
    "                    # this check passes too\n",
    "                \n",
    "                \n",
    "\n",
    "                \n",
    "            sepD=bf.angle(sourcexyz,self.normD)\n",
    "                   # print(\"separation from D is \" + str(np.rad2deg(sepD)))\n",
    "                   #this check passes.  \n",
    "            xD = bf.look_up_D(self.normD,sourcexyz)\n",
    "            dtheoryD=GRB.Ao*bf.response(sepD,xD)  #still need to define strength, brb and gonna do that \n",
    "            if type(dtheoryD) == np.float64:\n",
    "                dtheoryD = np.array([dtheoryD])\n",
    "                     \n",
    "                   # print(\"dtheory test: \" + str(dtheory))\n",
    "            X1 = np.concatenate((dtheoryA,dtheoryB))\n",
    "            X2 = np.concatenate((dtheoryC,dtheoryD))\n",
    "            X3 = np.concatenate((X1,X2))\n",
    "            X3 = relative_scale(X3)\n",
    "            X.append(X3)   \n",
    "        return np.array(X)\n",
    "    "
   ]
  },
  {
   "cell_type": "code",
   "execution_count": 7,
   "metadata": {
    "collapsed": true
   },
   "outputs": [],
   "source": [
    "cubesat = FastCube(1000,45)"
   ]
  },
  {
   "cell_type": "code",
   "execution_count": 8,
   "metadata": {
    "collapsed": true
   },
   "outputs": [],
   "source": [
    "%matplotlib inline\n"
   ]
  },
  {
   "cell_type": "code",
   "execution_count": null,
   "metadata": {
    "collapsed": true
   },
   "outputs": [],
   "source": []
  },
  {
   "cell_type": "code",
   "execution_count": 15,
   "metadata": {
    "collapsed": true
   },
   "outputs": [],
   "source": [
    "def get_offset(Xs,ys,i,model):\n",
    "    \"\"\"Input the inded number, will tell you what the source is actually at, \n",
    "    the reconstructed position, and the offset. \n",
    "    This isn't even including the gaussian variations \n",
    "    yet so that will be even more noise so this should be really good. \n",
    "    \n",
    "    \"\"\"\n",
    "    test  = Xs[i]\n",
    "    test = test.reshape(1,-1)\n",
    "    guess = model.predict(test)\n",
    "\n",
    "   # print(\"Source location:\",\" \",ys[i])\n",
    "    \n",
    "    #print(\"Random forest guess:\",guess)\n",
    "    guesstheta,guessphi = deg2rad(guess[0][0]),deg2rad(guess[0][1])\n",
    "    vectest = ang2vec(guesstheta,guessphi)\n",
    "    \n",
    "    sourcetheta,sourcephi = deg2rad(ys[i][0]),deg2rad(ys[i][1])\n",
    "    vecsource = ang2vec(sourcetheta,sourcephi)\n",
    "    #print(vectest)\n",
    "    #print(vecsource)\n",
    "    sep =  rad2deg(bf.angle(vecsource,vectest))\n",
    "    \n",
    "    #print(\"separation: \",sep, \" degrees\")\n",
    "    return sep"
   ]
  },
  {
   "cell_type": "code",
   "execution_count": 16,
   "metadata": {},
   "outputs": [],
   "source": [
    "def regression(N):\n",
    "    Xs = cubesat.response2GRB(GRBs)\n",
    "\n",
    "    ys = rad2deg(GRBs.sourceangs)\n",
    "    Xs = Xs[0:N]\n",
    "    ys = ys[0:N]\n",
    "    \n",
    "    from sklearn.datasets import make_regression\n",
    "    from sklearn.multioutput import MultiOutputRegressor\n",
    "    from sklearn.ensemble import GradientBoostingRegressor\n",
    "    from sklearn import preprocessing, cross_validation\n",
    "    from sklearn.neural_network import MLPRegressor\n",
    "    from sklearn.ensemble import RandomForestRegressor\n",
    "    from sklearn.svm import SVR\n",
    "    from sklearn import linear_model\n",
    "\n",
    "    X_train,X_test,y_train,y_test = cross_validation.train_test_split(Xs,ys,test_size=0.27)\n",
    "    #clf = linear_model.LinearRegression()\n",
    "    clf = RandomForestRegressor()\n",
    "    clf.n_estimators = 1000\n",
    "    #clf = SVR()\n",
    "    #clf = MLPRegressor()\n",
    "    model = MultiOutputRegressor(estimator=clf)\n",
    "    model.fit(X_train,y_train)\n",
    "    print(\"R**2 = \", model.score(X_test,y_test))\n",
    "    \n",
    "    seps = []\n",
    "    for i in range(N):\n",
    "        sep = get_offset(Xs,ys,i,model)\n",
    "        seps.append(sep)\n",
    "    \n",
    "    import matplotlib.pyplot as plt\n",
    "\n",
    "    plt.plot(seps,'.')\n",
    "    plt.xlabel(\"Pixel # (Descending from zenith @ [0,0])\")\n",
    "    plt.ylabel('Loc Offset')\n",
    "    plt.title(\"How good this ML Model (Random Forest) is at assigning the relative counts to the given sky position\")\n",
    "    return seps\n",
    "    "
   ]
  },
  {
   "cell_type": "code",
   "execution_count": 17,
   "metadata": {},
   "outputs": [
    {
     "name": "stdout",
     "output_type": "stream",
     "text": [
      "R**2 =  0.6725851967606464\n"
     ]
    },
    {
     "data": {
      "image/png": "[encoded data removed]",
      "text/plain": [
       "<matplotlib.figure.Figure at 0x1151a8e10>"
      ]
     },
     "metadata": {},
     "output_type": "display_data"
    }
   ],
   "source": [
    "seps = regression(1000)"
   ]
  },
  {
   "cell_type": "code",
   "execution_count": 18,
   "metadata": {},
   "outputs": [],
   "source": [
    "import statistics as s"
   ]
  },
  {
   "cell_type": "code",
   "execution_count": 19,
   "metadata": {},
   "outputs": [
    {
     "data": {
      "text/plain": [
       "2.9344414269225148"
      ]
     },
     "execution_count": 19,
     "metadata": {},
     "output_type": "execute_result"
    }
   ],
   "source": [
    "s.mean(seps)"
   ]
  },
  {
   "cell_type": "code",
   "execution_count": 20,
   "metadata": {},
   "outputs": [
    {
     "data": {
      "text/plain": [
       "3.11762257982777"
      ]
     },
     "execution_count": 20,
     "metadata": {},
     "output_type": "execute_result"
    }
   ],
   "source": [
    "s.stdev(seps)"
   ]
  },
  {
   "cell_type": "code",
   "execution_count": 21,
   "metadata": {},
   "outputs": [
    {
     "data": {
      "text/plain": [
       "1.973638857908334"
      ]
     },
     "execution_count": 21,
     "metadata": {},
     "output_type": "execute_result"
    }
   ],
   "source": [
    "s.median(seps)"
   ]
  },
  {
   "cell_type": "code",
   "execution_count": null,
   "metadata": {
    "collapsed": true
   },
   "outputs": [],
   "source": []
  },
  {
   "cell_type": "code",
   "execution_count": null,
   "metadata": {
    "collapsed": true
   },
   "outputs": [],
   "source": []
  },
  {
   "cell_type": "code",
   "execution_count": null,
   "metadata": {
    "collapsed": true
   },
   "outputs": [],
   "source": [
    "np.savetxt('y.txt',ys)"
   ]
  },
  {
   "cell_type": "code",
   "execution_count": null,
   "metadata": {
    "collapsed": true
   },
   "outputs": [],
   "source": [
    "ys = rad2deg(GRBs.sourceangs)"
   ]
  },
  {
   "cell_type": "code",
   "execution_count": null,
   "metadata": {},
   "outputs": [],
   "source": [
    "Xs = Xs[0:1000]\n",
    "ys = ys[0:1000]  #only a good sample size"
   ]
  },
  {
   "cell_type": "markdown",
   "metadata": {},
   "source": [
    "Example SVR\n",
    "-----------\n",
    "\n",
    "from sklearn import svm\n",
    " X = [[0, 0], [2, 2]]\n",
    " \n",
    " y = [0.5, 2.5]\n",
    " \n",
    " clf = svm.SVR()\n",
    "\n",
    "clf.fit(X, y) \n",
    "\n",
    "SVR(C=1.0, cache_size=200, coef0=0.0, degree=3, epsilon=0.1, gamma='auto',\n",
    "    kernel='rbf', max_iter=-1, shrinking=True, tol=0.001, verbose=False)\n",
    " clf.predict([[1, 1]])\n",
    "array([ 1.5])"
   ]
  },
  {
   "cell_type": "code",
   "execution_count": null,
   "metadata": {},
   "outputs": [],
   "source": [
    "from sklearn.datasets import make_regression\n",
    "from sklearn.multioutput import MultiOutputRegressor\n",
    "from sklearn.ensemble import GradientBoostingRegressor\n",
    "from sklearn import preprocessing, cross_validation\n",
    "\n",
    "X_train,X_test,y_train,y_test = cross_validation.train_test_split(Xs,ys,test_size=0.27)\n",
    "\n",
    "#model = MultiOutputRegressor(GradientBoostingRegressor(random_state=0))\n",
    "#model.fit(X_train, y_train)\n",
    "#.predict(X)"
   ]
  },
  {
   "cell_type": "code",
   "execution_count": null,
   "metadata": {
    "collapsed": true
   },
   "outputs": [],
   "source": [
    "model = MultiOutputRegressor(estimator=clf)"
   ]
  },
  {
   "cell_type": "code",
   "execution_count": null,
   "metadata": {},
   "outputs": [],
   "source": [
    "model.fit(X_train,y_train)"
   ]
  },
  {
   "cell_type": "code",
   "execution_count": null,
   "metadata": {},
   "outputs": [],
   "source": [
    "model.score(X_test,y_test)"
   ]
  },
  {
   "cell_type": "code",
   "execution_count": null,
   "metadata": {
    "collapsed": true
   },
   "outputs": [],
   "source": [
    "from sklearn import linear_model\n",
    "clf = linear_model.LinearRegression()\n",
    "#clf.fit([[getattr(t, 'x%d' % i) for i in range(1, 8)] for t in texts],\n",
    "#        [t.y for t in texts])"
   ]
  },
  {
   "cell_type": "code",
   "execution_count": null,
   "metadata": {},
   "outputs": [],
   "source": [
    "X_train,X_test,y_train,y_test = cross_validation.train_test_split(Xs,ys,test_size=0.27)\n"
   ]
  },
  {
   "cell_type": "code",
   "execution_count": null,
   "metadata": {
    "collapsed": true
   },
   "outputs": [],
   "source": []
  },
  {
   "cell_type": "code",
   "execution_count": null,
   "metadata": {
    "collapsed": true
   },
   "outputs": [],
   "source": [
    "#END NEW VERZ"
   ]
  },
  {
   "cell_type": "code",
   "execution_count": null,
   "metadata": {
    "collapsed": true
   },
   "outputs": [],
   "source": [
    "np.shape(X)"
   ]
  },
  {
   "cell_type": "code",
   "execution_count": null,
   "metadata": {
    "collapsed": true
   },
   "outputs": [],
   "source": [
    "from sklearn import svm\n",
    "from sklearn.multioutput import MultiOutputRegressor\n",
    "from sklearn.neural_network import MLPRegressor\n",
    "from sklearn.ensemble import RandomForestRegressor"
   ]
  },
  {
   "cell_type": "code",
   "execution_count": null,
   "metadata": {
    "collapsed": true
   },
   "outputs": [],
   "source": [
    "from sklearn.ensemble import RandomForestRegressor\n",
    "rf = RandomForestRegressor(random_state = 42)\n",
    "# Look at parameters used by our current forest\n",
    "print('Parameters currently in use:\\n')\n"
   ]
  },
  {
   "cell_type": "code",
   "execution_count": null,
   "metadata": {
    "collapsed": true
   },
   "outputs": [],
   "source": [
    "rf = RandomForestRegressor()\n",
    "model = svm.SVR()"
   ]
  },
  {
   "cell_type": "code",
   "execution_count": null,
   "metadata": {
    "collapsed": true
   },
   "outputs": [],
   "source": [
    "clf = MultiOutputRegressor(estimator=rf)"
   ]
  },
  {
   "cell_type": "code",
   "execution_count": null,
   "metadata": {
    "collapsed": true
   },
   "outputs": [],
   "source": [
    "from sklearn import preprocessing, cross_validation\n",
    "\n",
    "X_train,X_test,y_train,y_test = cross_validation.train_test_split(Xs,ys,test_size=0.27)\n"
   ]
  },
  {
   "cell_type": "code",
   "execution_count": null,
   "metadata": {
    "collapsed": true
   },
   "outputs": [],
   "source": [
    "X_test[21]"
   ]
  },
  {
   "cell_type": "code",
   "execution_count": null,
   "metadata": {
    "collapsed": true,
    "scrolled": true
   },
   "outputs": [],
   "source": [
    "clf.fit(X_train,y_train)"
   ]
  },
  {
   "cell_type": "code",
   "execution_count": null,
   "metadata": {
    "collapsed": true
   },
   "outputs": [],
   "source": []
  },
  {
   "cell_type": "code",
   "execution_count": null,
   "metadata": {
    "collapsed": true
   },
   "outputs": [],
   "source": [
    "clf.score(X_test,y_test)"
   ]
  },
  {
   "cell_type": "code",
   "execution_count": null,
   "metadata": {
    "collapsed": true
   },
   "outputs": [],
   "source": [
    "test  = Xs[6]\n",
    "test = test.reshape(1,-1)\n"
   ]
  },
  {
   "cell_type": "code",
   "execution_count": null,
   "metadata": {
    "collapsed": true
   },
   "outputs": [],
   "source": [
    "clf.predict(test)"
   ]
  },
  {
   "cell_type": "code",
   "execution_count": null,
   "metadata": {
    "collapsed": true
   },
   "outputs": [],
   "source": [
    "ys[6]"
   ]
  },
  {
   "cell_type": "code",
   "execution_count": null,
   "metadata": {
    "collapsed": true
   },
   "outputs": [],
   "source": [
    "def get_offset(i):\n",
    "    \"\"\"Input the inded number, will tell you what the source is actually at, \n",
    "    the reconstructed position, and the offset. \n",
    "    This isn't even including the gaussian variations \n",
    "    yet so that will be even more noise so this should be really good. \n",
    "    \n",
    "    \"\"\"\n",
    "    test  = Xs[6]\n",
    "    test = test.reshape(1,-1)\n",
    "    guess = model.predict(test)\n",
    "\n",
    "   # print(\"Source location:\",\" \",ys[i])\n",
    "    \n",
    "    #print(\"Random forest guess:\",guess)\n",
    "    guesstheta,guessphi = deg2rad(guess[0][0]),deg2rad(guess[0][1])\n",
    "    vectest = ang2vec(guesstheta,guessphi)\n",
    "    \n",
    "    sourcetheta,sourcephi = deg2rad(ys[i][0]),deg2rad(ys[i][1])\n",
    "    vecsource = ang2vec(sourcetheta,sourcephi)\n",
    "    #print(vectest)\n",
    "    #print(vecsource)\n",
    "    sep =  rad2deg(bf.angle(vecsource,vectest))\n",
    "    \n",
    "    #print(\"separation: \",sep, \" degrees\")\n",
    "    return sep"
   ]
  },
  {
   "cell_type": "code",
   "execution_count": null,
   "metadata": {},
   "outputs": [],
   "source": [
    "seps = []\n",
    "\n",
    "for i in range(1000):\n",
    "    sep = get_offset(i)\n",
    "    seps.append(sep)"
   ]
  },
  {
   "cell_type": "code",
   "execution_count": null,
   "metadata": {
    "collapsed": true
   },
   "outputs": [],
   "source": [
    "ys[4000]"
   ]
  },
  {
   "cell_type": "code",
   "execution_count": null,
   "metadata": {
    "collapsed": true
   },
   "outputs": [],
   "source": [
    "%matplotlib inline\n",
    "import matplotlib.pyplot as plt\n",
    "\n",
    "plt.plot(seps)\n",
    "plt.xlabel(\"Step #\")\n",
    "plt.ylabel('Loc Offset')"
   ]
  },
  {
   "cell_type": "code",
   "execution_count": null,
   "metadata": {
    "collapsed": true
   },
   "outputs": [],
   "source": [
    "            \n",
    "                #coarse to fine optimization\n",
    "                chiA = bf.quad_solver(detcountsA,self.normA,bottheta,toptheta,botphi,topphi,botA,topA,ntheta,nphi,nA,self.bg,A=True)\n",
    "                chiB = bf.quad_solver(detcountsB,self.normB,bottheta,toptheta,botphi,topphi,botA,topA,ntheta,nphi,nA,self.bg,B=True)\n",
    "                chiC = bf.quad_solver(detcountsC,self.normC,bottheta,toptheta,botphi,topphi,botA,topA,ntheta,nphi,nA,self.bg,C=True)\n",
    "                chiD = bf.quad_solver(detcountsD,self.normD,bottheta,toptheta,botphi,topphi,botA,topA,ntheta,nphi,nA,self.bg,D=True)\n",
    "                \n",
    "                chisquared = add(add(chiA,chiB),add(chiC,chiD)) #adds it all up for total chi2\n",
    "                \n",
    "                #print(\"Chi squareds: \" +str(chisquared))\n",
    "                \n",
    "                \n",
    "                thetaloc, philoc, Aguess = bf.indexer(chisquared,bottheta,toptheta,botphi,topphi,botA,topA,ntheta,nphi,nA)\n",
    "                recvec = ang2vec(deg2rad(thetaloc),deg2rad(philoc))\n",
    "                locoffset = rad2deg(bf.angle(sourcexyz,recvec))\n",
    "               # print(\"Loc offset = \" + str(locoffset) + \" deg\")\n",
    "                \n",
    "                locunc.append(locoffset)\n",
    "                loop +=1\n",
    "            if talk:\n",
    "                print(\"Avg loc offset = \" + str(average(locunc)) + \" deg.\")\n",
    "\n",
    "            self.localizationerrors.append(s.mean(locunc))\n",
    "        return self.localizationerrors"
   ]
  },
  {
   "cell_type": "code",
   "execution_count": null,
   "metadata": {
    "collapsed": true
   },
   "outputs": [],
   "source": []
  },
  {
   "cell_type": "code",
   "execution_count": null,
   "metadata": {
    "collapsed": true
   },
   "outputs": [],
   "source": []
  }
 ],
 "metadata": {
  "kernelspec": {
   "display_name": "Python 3",
   "language": "python",
   "name": "python3"
  },
  "language_info": {
   "codemirror_mode": {
    "name": "ipython",
    "version": 3
   },
   "file_extension": ".py",
   "mimetype": "text/x-python",
   "name": "python",
   "nbconvert_exporter": "python",
   "pygments_lexer": "ipython3",
   "version": "3.6.1"
  }
 },
 "nbformat": 4,
 "nbformat_minor": 2
}
