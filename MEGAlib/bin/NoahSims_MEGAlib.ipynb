{
 "cells": [
  {
   "cell_type": "markdown",
   "metadata": {},
   "source": [
    "In this notebook are all the tools I need to load in a MEGAlib simulation for a given detector geometry, specified in the directory MEGAlib/geo/ ... look at the config.yaml file in order to determine which geometry file is currently being tested, and manipulated in there along with other factors to test."
   ]
  },
  {
   "cell_type": "markdown",
   "metadata": {},
   "source": [
    "Part I \n",
    "------\n",
    "\n",
    "Creating .source files"
   ]
  },
  {
   "cell_type": "code",
   "execution_count": 1,
   "metadata": {
    "collapsed": true
   },
   "outputs": [],
   "source": [
    "import os"
   ]
  },
  {
   "cell_type": "code",
   "execution_count": null,
   "metadata": {
    "collapsed": true
   },
   "outputs": [],
   "source": [
    "pwd"
   ]
  },
  {
   "cell_type": "code",
   "execution_count": null,
   "metadata": {
    "collapsed": true
   },
   "outputs": [],
   "source": [
    "#change the directory so gz files immediately go where I want them to.\n",
    "\n",
    "\n"
   ]
  },
  {
   "cell_type": "code",
   "execution_count": 2,
   "metadata": {
    "collapsed": true
   },
   "outputs": [],
   "source": [
    "#import the simgenerator\n",
    "import simGenerator\n",
    "\n"
   ]
  },
  {
   "cell_type": "code",
   "execution_count": 15,
   "metadata": {
    "collapsed": true
   },
   "outputs": [],
   "source": [
    "#use proper directory, and create a configureator object.\n",
    "testdir = '/Users/noahkasmanoff/BurstCube/Simulation/MEGAlib/test/'\n",
    "\n",
    "noahdir = '/Volumes/Chumba/simspace/noahcube/'  #dir for my version\n",
    "controldir = '/Volumes/Chumba/simspace/control/' #dir for control (no plating etc.)\n",
    "\n",
    "confnoah = simGenerator.configurator(testdir+'configNoah.yaml')  #sampling throughout sky, const E\n",
    "confreg = simGenerator.configurator(testdir+'config.yaml')\n",
    "confnoahE = simGenerator.configurator(testdir+'configENoah.yaml')  #sampling energies, const pos\n",
    "confregE = simGenerator.configurator(testdir+'configE.yaml')"
   ]
  },
  {
   "cell_type": "code",
   "execution_count": null,
   "metadata": {
    "collapsed": true
   },
   "outputs": [],
   "source": [
    "confnoahE.config"
   ]
  },
  {
   "cell_type": "code",
   "execution_count": 12,
   "metadata": {},
   "outputs": [],
   "source": [
    "#an action taken by the configurator, create source files. \n",
    "confnoah.createSourceFiles(noahdir)\n",
    "confreg.createSourceFiles(controldir)\n",
    "confnoahE.createSourceFiles(noahdir)\n",
    "confregE.createSourceFiles(controldir)"
   ]
  },
  {
   "cell_type": "code",
   "execution_count": 9,
   "metadata": {},
   "outputs": [
    {
     "name": "stdout",
     "output_type": "stream",
     "text": [
      "> \u001b[0;32m/Users/noahkasmanoff/BurstCube/Simulation/MEGAlib/bin/simGenerator.py\u001b[0m(177)\u001b[0;36mcreateSourceFiles\u001b[0;34m()\u001b[0m\n",
      "\u001b[0;32m    175 \u001b[0;31m                \u001b[0mfname\u001b[0m \u001b[0;34m=\u001b[0m \u001b[0mself\u001b[0m\u001b[0;34m.\u001b[0m\u001b[0mconfig\u001b[0m\u001b[0;34m[\u001b[0m\u001b[0;34m'run'\u001b[0m\u001b[0;34m]\u001b[0m\u001b[0;34m[\u001b[0m\u001b[0;34m'srcdir'\u001b[0m\u001b[0;34m]\u001b[0m \u001b[0;34m+\u001b[0m \u001b[0;34m'/'\u001b[0m \u001b[0;34m+\u001b[0m \u001b[0mfname\u001b[0m \u001b[0;34m+\u001b[0m \u001b[0;34m'.source'\u001b[0m\u001b[0;34m\u001b[0m\u001b[0m\n",
      "\u001b[0m\u001b[0;32m    176 \u001b[0;31m\u001b[0;34m\u001b[0m\u001b[0m\n",
      "\u001b[0m\u001b[0;32m--> 177 \u001b[0;31m            \u001b[0mf\u001b[0m \u001b[0;34m=\u001b[0m \u001b[0mopen\u001b[0m\u001b[0;34m(\u001b[0m\u001b[0mpath\u001b[0m\u001b[0;34m.\u001b[0m\u001b[0mexpandvars\u001b[0m\u001b[0;34m(\u001b[0m\u001b[0mfname\u001b[0m\u001b[0;34m)\u001b[0m\u001b[0;34m,\u001b[0m \u001b[0;34m'w'\u001b[0m\u001b[0;34m)\u001b[0m\u001b[0;34m\u001b[0m\u001b[0m\n",
      "\u001b[0m\u001b[0;32m    178 \u001b[0;31m            \u001b[0mf\u001b[0m\u001b[0;34m.\u001b[0m\u001b[0mwrite\u001b[0m\u001b[0;34m(\u001b[0m\u001b[0msrcstr\u001b[0m\u001b[0;34m)\u001b[0m\u001b[0;34m\u001b[0m\u001b[0m\n",
      "\u001b[0m\u001b[0;32m    179 \u001b[0;31m            \u001b[0mf\u001b[0m\u001b[0;34m.\u001b[0m\u001b[0mclose\u001b[0m\u001b[0;34m(\u001b[0m\u001b[0;34m)\u001b[0m\u001b[0;34m\u001b[0m\u001b[0m\n",
      "\u001b[0m\n",
      "ipdb> u\n",
      "> \u001b[0;32m<ipython-input-8-19fc206f1c93>\u001b[0m(2)\u001b[0;36m<module>\u001b[0;34m()\u001b[0m\n",
      "\u001b[0;32m      1 \u001b[0;31m\u001b[0;31m#an action taken by the configurator, create source files.\u001b[0m\u001b[0;34m\u001b[0m\u001b[0;34m\u001b[0m\u001b[0m\n",
      "\u001b[0m\u001b[0;32m----> 2 \u001b[0;31m\u001b[0mconfnoah\u001b[0m\u001b[0;34m.\u001b[0m\u001b[0mcreateSourceFiles\u001b[0m\u001b[0;34m(\u001b[0m\u001b[0mnoahdir\u001b[0m\u001b[0;34m)\u001b[0m\u001b[0;34m\u001b[0m\u001b[0m\n",
      "\u001b[0m\u001b[0;32m      3 \u001b[0;31m\u001b[0mconfreg\u001b[0m\u001b[0;34m.\u001b[0m\u001b[0mcreateSourceFiles\u001b[0m\u001b[0;34m(\u001b[0m\u001b[0mcontroldir\u001b[0m\u001b[0;34m)\u001b[0m\u001b[0;34m\u001b[0m\u001b[0m\n",
      "\u001b[0m\u001b[0;32m      4 \u001b[0;31m\u001b[0mconfnoahE\u001b[0m\u001b[0;34m.\u001b[0m\u001b[0mcreateSourceFiles\u001b[0m\u001b[0;34m(\u001b[0m\u001b[0mnoahdir\u001b[0m\u001b[0;34m)\u001b[0m\u001b[0;34m\u001b[0m\u001b[0m\n",
      "\u001b[0m\u001b[0;32m      5 \u001b[0;31m\u001b[0mconfregE\u001b[0m\u001b[0;34m.\u001b[0m\u001b[0mcreateSourceFiles\u001b[0m\u001b[0;34m(\u001b[0m\u001b[0mcontroldir\u001b[0m\u001b[0;34m)\u001b[0m\u001b[0;34m\u001b[0m\u001b[0m\n",
      "\u001b[0m\n",
      "ipdb> noahdir\n",
      "'/Volumes/Chumba/simspace/control/noahcube'\n",
      "ipdb> confnoah\n",
      "<simGenerator.configurator object at 0x1090bb7b8>\n",
      "ipdb> exit\n"
     ]
    }
   ],
   "source": [
    "%debug"
   ]
  },
  {
   "cell_type": "code",
   "execution_count": 13,
   "metadata": {
    "collapsed": true
   },
   "outputs": [],
   "source": [
    "import runSims"
   ]
  },
  {
   "cell_type": "code",
   "execution_count": null,
   "metadata": {
    "collapsed": true
   },
   "outputs": [],
   "source": [
    "runSims.runCosima?"
   ]
  },
  {
   "cell_type": "markdown",
   "metadata": {},
   "source": [
    "Take the most recent geometry file, and run a simulation of effective area, energy, all plots etc with 1000 events \n",
    "\n",
    "as I add features, want to continously compare to the base version of it.\n",
    "\n",
    "Using a compare function in the plot tools that does this. \n",
    "\n"
   ]
  },
  {
   "cell_type": "code",
   "execution_count": null,
   "metadata": {
    "collapsed": true
   },
   "outputs": [],
   "source": [
    "os.chdir(noahdir)\n"
   ]
  },
  {
   "cell_type": "code",
   "execution_count": null,
   "metadata": {
    "collapsed": true
   },
   "outputs": [],
   "source": [
    "pwd"
   ]
  },
  {
   "cell_type": "code",
   "execution_count": null,
   "metadata": {
    "collapsed": true
   },
   "outputs": [],
   "source": []
  },
  {
   "cell_type": "code",
   "execution_count": null,
   "metadata": {
    "collapsed": true,
    "scrolled": true
   },
   "outputs": [],
   "source": [
    "os.chdir(noahdir)\n",
    "\n",
    "files = os.listdir(noahdir)\n",
    "for file in files:\n",
    "    if file[-1] == 'e': #one way to find a sim\n",
    "        print('file: ' + file)\n",
    "        runSims.runCosima(noahdir + file)\n",
    "    "
   ]
  },
  {
   "cell_type": "code",
   "execution_count": 16,
   "metadata": {
    "scrolled": true
   },
   "outputs": [
    {
     "name": "stdout",
     "output_type": "stream",
     "text": [
      "file: BurstCube_100.000keV_0.00ze_0.00az.source\n",
      "Running cosima on /Volumes/Chumba/simspace/control/BurstCube_100.000keV_0.00ze_0.00az.source\n",
      "Writing Log for /Volumes/Chumba/simspace/control/BurstCube_100.000keV_0.00ze_0.00az.source\n",
      "file: BurstCube_100.000keV_12.86ze_0.00az.source\n",
      "Running cosima on /Volumes/Chumba/simspace/control/BurstCube_100.000keV_12.86ze_0.00az.source\n",
      "Writing Log for /Volumes/Chumba/simspace/control/BurstCube_100.000keV_12.86ze_0.00az.source\n",
      "file: BurstCube_100.000keV_19.29ze_0.00az.source\n",
      "Running cosima on /Volumes/Chumba/simspace/control/BurstCube_100.000keV_19.29ze_0.00az.source\n",
      "Writing Log for /Volumes/Chumba/simspace/control/BurstCube_100.000keV_19.29ze_0.00az.source\n",
      "file: BurstCube_100.000keV_25.71ze_0.00az.source\n",
      "Running cosima on /Volumes/Chumba/simspace/control/BurstCube_100.000keV_25.71ze_0.00az.source\n",
      "Writing Log for /Volumes/Chumba/simspace/control/BurstCube_100.000keV_25.71ze_0.00az.source\n",
      "file: BurstCube_100.000keV_32.14ze_0.00az.source\n",
      "Running cosima on /Volumes/Chumba/simspace/control/BurstCube_100.000keV_32.14ze_0.00az.source\n",
      "Writing Log for /Volumes/Chumba/simspace/control/BurstCube_100.000keV_32.14ze_0.00az.source\n",
      "file: BurstCube_100.000keV_38.57ze_0.00az.source\n",
      "Running cosima on /Volumes/Chumba/simspace/control/BurstCube_100.000keV_38.57ze_0.00az.source\n",
      "Writing Log for /Volumes/Chumba/simspace/control/BurstCube_100.000keV_38.57ze_0.00az.source\n",
      "file: BurstCube_100.000keV_45.00ze_0.00az.source\n",
      "Running cosima on /Volumes/Chumba/simspace/control/BurstCube_100.000keV_45.00ze_0.00az.source\n",
      "Writing Log for /Volumes/Chumba/simspace/control/BurstCube_100.000keV_45.00ze_0.00az.source\n",
      "file: BurstCube_100.000keV_51.43ze_0.00az.source\n",
      "Running cosima on /Volumes/Chumba/simspace/control/BurstCube_100.000keV_51.43ze_0.00az.source\n",
      "Writing Log for /Volumes/Chumba/simspace/control/BurstCube_100.000keV_51.43ze_0.00az.source\n",
      "file: BurstCube_100.000keV_57.86ze_0.00az.source\n",
      "Running cosima on /Volumes/Chumba/simspace/control/BurstCube_100.000keV_57.86ze_0.00az.source\n",
      "Writing Log for /Volumes/Chumba/simspace/control/BurstCube_100.000keV_57.86ze_0.00az.source\n",
      "file: BurstCube_100.000keV_6.43ze_0.00az.source\n",
      "Running cosima on /Volumes/Chumba/simspace/control/BurstCube_100.000keV_6.43ze_0.00az.source\n",
      "Writing Log for /Volumes/Chumba/simspace/control/BurstCube_100.000keV_6.43ze_0.00az.source\n",
      "file: BurstCube_100.000keV_64.29ze_0.00az.source\n",
      "Running cosima on /Volumes/Chumba/simspace/control/BurstCube_100.000keV_64.29ze_0.00az.source\n",
      "Writing Log for /Volumes/Chumba/simspace/control/BurstCube_100.000keV_64.29ze_0.00az.source\n",
      "file: BurstCube_100.000keV_70.71ze_0.00az.source\n",
      "Running cosima on /Volumes/Chumba/simspace/control/BurstCube_100.000keV_70.71ze_0.00az.source\n",
      "Writing Log for /Volumes/Chumba/simspace/control/BurstCube_100.000keV_70.71ze_0.00az.source\n",
      "file: BurstCube_100.000keV_77.14ze_0.00az.source\n",
      "Running cosima on /Volumes/Chumba/simspace/control/BurstCube_100.000keV_77.14ze_0.00az.source\n",
      "Writing Log for /Volumes/Chumba/simspace/control/BurstCube_100.000keV_77.14ze_0.00az.source\n",
      "file: BurstCube_100.000keV_83.57ze_0.00az.source\n",
      "Running cosima on /Volumes/Chumba/simspace/control/BurstCube_100.000keV_83.57ze_0.00az.source\n",
      "Writing Log for /Volumes/Chumba/simspace/control/BurstCube_100.000keV_83.57ze_0.00az.source\n",
      "file: BurstCube_100.000keV_90.00ze_0.00az.source\n",
      "Running cosima on /Volumes/Chumba/simspace/control/BurstCube_100.000keV_90.00ze_0.00az.source\n",
      "Writing Log for /Volumes/Chumba/simspace/control/BurstCube_100.000keV_90.00ze_0.00az.source\n",
      "file: BurstCube_11938.540keV_0.00ze_0.00az.source\n",
      "Running cosima on /Volumes/Chumba/simspace/control/BurstCube_11938.540keV_0.00ze_0.00az.source\n",
      "Writing Log for /Volumes/Chumba/simspace/control/BurstCube_11938.540keV_0.00ze_0.00az.source\n",
      "file: BurstCube_1217.729keV_0.00ze_0.00az.source\n",
      "Running cosima on /Volumes/Chumba/simspace/control/BurstCube_1217.729keV_0.00ze_0.00az.source\n",
      "Writing Log for /Volumes/Chumba/simspace/control/BurstCube_1217.729keV_0.00ze_0.00az.source\n",
      "file: BurstCube_124.208keV_0.00ze_0.00az.source\n",
      "Running cosima on /Volumes/Chumba/simspace/control/BurstCube_124.208keV_0.00ze_0.00az.source\n",
      "Writing Log for /Volumes/Chumba/simspace/control/BurstCube_124.208keV_0.00ze_0.00az.source\n",
      "file: BurstCube_15000.000keV_0.00ze_0.00az.source\n",
      "Running cosima on /Volumes/Chumba/simspace/control/BurstCube_15000.000keV_0.00ze_0.00az.source\n",
      "Writing Log for /Volumes/Chumba/simspace/control/BurstCube_15000.000keV_0.00ze_0.00az.source\n",
      "file: BurstCube_1529.998keV_0.00ze_0.00az.source\n",
      "Running cosima on /Volumes/Chumba/simspace/control/BurstCube_1529.998keV_0.00ze_0.00az.source\n",
      "Writing Log for /Volumes/Chumba/simspace/control/BurstCube_1529.998keV_0.00ze_0.00az.source\n",
      "file: BurstCube_156.060keV_0.00ze_0.00az.source\n",
      "Running cosima on /Volumes/Chumba/simspace/control/BurstCube_156.060keV_0.00ze_0.00az.source\n",
      "Writing Log for /Volumes/Chumba/simspace/control/BurstCube_156.060keV_0.00ze_0.00az.source\n",
      "file: BurstCube_1922.343keV_0.00ze_0.00az.source\n",
      "Running cosima on /Volumes/Chumba/simspace/control/BurstCube_1922.343keV_0.00ze_0.00az.source\n",
      "Writing Log for /Volumes/Chumba/simspace/control/BurstCube_1922.343keV_0.00ze_0.00az.source\n",
      "file: BurstCube_196.079keV_0.00ze_0.00az.source\n",
      "Running cosima on /Volumes/Chumba/simspace/control/BurstCube_196.079keV_0.00ze_0.00az.source\n",
      "Writing Log for /Volumes/Chumba/simspace/control/BurstCube_196.079keV_0.00ze_0.00az.source\n",
      "file: BurstCube_20.000keV_0.00ze_0.00az.source\n",
      "Running cosima on /Volumes/Chumba/simspace/control/BurstCube_20.000keV_0.00ze_0.00az.source\n",
      "Writing Log for /Volumes/Chumba/simspace/control/BurstCube_20.000keV_0.00ze_0.00az.source\n",
      "file: BurstCube_2415.299keV_0.00ze_0.00az.source\n",
      "Running cosima on /Volumes/Chumba/simspace/control/BurstCube_2415.299keV_0.00ze_0.00az.source\n",
      "Writing Log for /Volumes/Chumba/simspace/control/BurstCube_2415.299keV_0.00ze_0.00az.source\n",
      "file: BurstCube_246.360keV_0.00ze_0.00az.source\n",
      "Running cosima on /Volumes/Chumba/simspace/control/BurstCube_246.360keV_0.00ze_0.00az.source\n",
      "Writing Log for /Volumes/Chumba/simspace/control/BurstCube_246.360keV_0.00ze_0.00az.source\n",
      "file: BurstCube_25.129keV_0.00ze_0.00az.source\n",
      "Running cosima on /Volumes/Chumba/simspace/control/BurstCube_25.129keV_0.00ze_0.00az.source\n",
      "Writing Log for /Volumes/Chumba/simspace/control/BurstCube_25.129keV_0.00ze_0.00az.source\n",
      "file: BurstCube_3034.666keV_0.00ze_0.00az.source\n",
      "Running cosima on /Volumes/Chumba/simspace/control/BurstCube_3034.666keV_0.00ze_0.00az.source\n",
      "Writing Log for /Volumes/Chumba/simspace/control/BurstCube_3034.666keV_0.00ze_0.00az.source\n",
      "file: BurstCube_309.536keV_0.00ze_0.00az.source\n",
      "Running cosima on /Volumes/Chumba/simspace/control/BurstCube_309.536keV_0.00ze_0.00az.source\n",
      "Writing Log for /Volumes/Chumba/simspace/control/BurstCube_309.536keV_0.00ze_0.00az.source\n",
      "file: BurstCube_31.573keV_0.00ze_0.00az.source\n",
      "Running cosima on /Volumes/Chumba/simspace/control/BurstCube_31.573keV_0.00ze_0.00az.source\n",
      "Writing Log for /Volumes/Chumba/simspace/control/BurstCube_31.573keV_0.00ze_0.00az.source\n",
      "file: BurstCube_3812.861keV_0.00ze_0.00az.source\n",
      "Running cosima on /Volumes/Chumba/simspace/control/BurstCube_3812.861keV_0.00ze_0.00az.source\n",
      "Writing Log for /Volumes/Chumba/simspace/control/BurstCube_3812.861keV_0.00ze_0.00az.source\n",
      "file: BurstCube_388.911keV_0.00ze_0.00az.source\n",
      "Running cosima on /Volumes/Chumba/simspace/control/BurstCube_388.911keV_0.00ze_0.00az.source\n",
      "Writing Log for /Volumes/Chumba/simspace/control/BurstCube_388.911keV_0.00ze_0.00az.source\n",
      "file: BurstCube_39.669keV_0.00ze_0.00az.source\n",
      "Running cosima on /Volumes/Chumba/simspace/control/BurstCube_39.669keV_0.00ze_0.00az.source\n",
      "Writing Log for /Volumes/Chumba/simspace/control/BurstCube_39.669keV_0.00ze_0.00az.source\n",
      "file: BurstCube_4790.612keV_0.00ze_0.00az.source\n",
      "Running cosima on /Volumes/Chumba/simspace/control/BurstCube_4790.612keV_0.00ze_0.00az.source\n",
      "Writing Log for /Volumes/Chumba/simspace/control/BurstCube_4790.612keV_0.00ze_0.00az.source\n",
      "file: BurstCube_488.642keV_0.00ze_0.00az.source\n",
      "Running cosima on /Volumes/Chumba/simspace/control/BurstCube_488.642keV_0.00ze_0.00az.source\n",
      "Writing Log for /Volumes/Chumba/simspace/control/BurstCube_488.642keV_0.00ze_0.00az.source\n",
      "file: BurstCube_49.841keV_0.00ze_0.00az.source\n",
      "Running cosima on /Volumes/Chumba/simspace/control/BurstCube_49.841keV_0.00ze_0.00az.source\n"
     ]
    },
    {
     "name": "stdout",
     "output_type": "stream",
     "text": [
      "Writing Log for /Volumes/Chumba/simspace/control/BurstCube_49.841keV_0.00ze_0.00az.source\n",
      "file: BurstCube_6019.093keV_0.00ze_0.00az.source\n",
      "Running cosima on /Volumes/Chumba/simspace/control/BurstCube_6019.093keV_0.00ze_0.00az.source\n",
      "Writing Log for /Volumes/Chumba/simspace/control/BurstCube_6019.093keV_0.00ze_0.00az.source\n",
      "file: BurstCube_613.947keV_0.00ze_0.00az.source\n",
      "Running cosima on /Volumes/Chumba/simspace/control/BurstCube_613.947keV_0.00ze_0.00az.source\n",
      "Writing Log for /Volumes/Chumba/simspace/control/BurstCube_613.947keV_0.00ze_0.00az.source\n",
      "file: BurstCube_62.622keV_0.00ze_0.00az.source\n",
      "Running cosima on /Volumes/Chumba/simspace/control/BurstCube_62.622keV_0.00ze_0.00az.source\n",
      "Writing Log for /Volumes/Chumba/simspace/control/BurstCube_62.622keV_0.00ze_0.00az.source\n",
      "file: BurstCube_7562.600keV_0.00ze_0.00az.source\n",
      "Running cosima on /Volumes/Chumba/simspace/control/BurstCube_7562.600keV_0.00ze_0.00az.source\n",
      "Writing Log for /Volumes/Chumba/simspace/control/BurstCube_7562.600keV_0.00ze_0.00az.source\n",
      "file: BurstCube_771.384keV_0.00ze_0.00az.source\n",
      "Running cosima on /Volumes/Chumba/simspace/control/BurstCube_771.384keV_0.00ze_0.00az.source\n",
      "Writing Log for /Volumes/Chumba/simspace/control/BurstCube_771.384keV_0.00ze_0.00az.source\n",
      "file: BurstCube_78.681keV_0.00ze_0.00az.source\n",
      "Running cosima on /Volumes/Chumba/simspace/control/BurstCube_78.681keV_0.00ze_0.00az.source\n",
      "Writing Log for /Volumes/Chumba/simspace/control/BurstCube_78.681keV_0.00ze_0.00az.source\n",
      "file: BurstCube_9501.916keV_0.00ze_0.00az.source\n",
      "Running cosima on /Volumes/Chumba/simspace/control/BurstCube_9501.916keV_0.00ze_0.00az.source\n",
      "Writing Log for /Volumes/Chumba/simspace/control/BurstCube_9501.916keV_0.00ze_0.00az.source\n",
      "file: BurstCube_969.194keV_0.00ze_0.00az.source\n",
      "Running cosima on /Volumes/Chumba/simspace/control/BurstCube_969.194keV_0.00ze_0.00az.source\n",
      "Writing Log for /Volumes/Chumba/simspace/control/BurstCube_969.194keV_0.00ze_0.00az.source\n",
      "file: BurstCube_98.858keV_0.00ze_0.00az.source\n",
      "Running cosima on /Volumes/Chumba/simspace/control/BurstCube_98.858keV_0.00ze_0.00az.source\n",
      "Writing Log for /Volumes/Chumba/simspace/control/BurstCube_98.858keV_0.00ze_0.00az.source\n"
     ]
    }
   ],
   "source": [
    "os.chdir(controldir)\n",
    "\n",
    "files = os.listdir(controldir)\n",
    "for file in files:\n",
    "    if file[-1] == 'e': #one way to find a sim\n",
    "        print('file: ' + file)\n",
    "        runSims.runCosima(controldir + file)"
   ]
  },
  {
   "cell_type": "markdown",
   "metadata": {},
   "source": [
    "Part 3\n",
    "-----\n",
    "\n",
    "Plotting results"
   ]
  },
  {
   "cell_type": "code",
   "execution_count": null,
   "metadata": {
    "collapsed": true
   },
   "outputs": [],
   "source": [
    "%matplotlib inline\n",
    "import matplotlib.pyplot as plt"
   ]
  },
  {
   "cell_type": "code",
   "execution_count": null,
   "metadata": {
    "collapsed": true
   },
   "outputs": [],
   "source": [
    "from plotSim import plotAeffComparison, plotThetaComparison\n",
    "from bcSim import simFiles\n",
    "from glob import glob"
   ]
  },
  {
   "cell_type": "code",
   "execution_count": null,
   "metadata": {
    "collapsed": true
   },
   "outputs": [],
   "source": [
    "config_files_E = glob(testdir + 'configE*.yaml')"
   ]
  },
  {
   "cell_type": "code",
   "execution_count": null,
   "metadata": {},
   "outputs": [],
   "source": [
    "config_files_E"
   ]
  },
  {
   "cell_type": "code",
   "execution_count": null,
   "metadata": {
    "collapsed": true
   },
   "outputs": [],
   "source": [
    "del config_files_E[-1]"
   ]
  },
  {
   "cell_type": "code",
   "execution_count": null,
   "metadata": {
    "collapsed": true
   },
   "outputs": [],
   "source": [
    "names = ['Control','Metal Plate','silicone',\n",
    "        'Teflon']"
   ]
  },
  {
   "cell_type": "code",
   "execution_count": null,
   "metadata": {},
   "outputs": [],
   "source": [
    "geodir = '/Users/noahkasmanoff/BurstCube/Simulation/MEGAlib/geo/'\n",
    "os.chdir(geodir)\n",
    "sims_E = [simFiles(config_file) for config_file in config_files_E]"
   ]
  },
  {
   "cell_type": "code",
   "execution_count": null,
   "metadata": {},
   "outputs": [],
   "source": [
    "plotAeffComparison(sims_E[:2], names[:2], compareTo='Control')"
   ]
  },
  {
   "cell_type": "markdown",
   "metadata": {},
   "source": [
    "This is in the /geo directory, do I need to go back to it?"
   ]
  },
  {
   "cell_type": "code",
   "execution_count": null,
   "metadata": {},
   "outputs": [],
   "source": []
  },
  {
   "cell_type": "code",
   "execution_count": null,
   "metadata": {
    "collapsed": true
   },
   "outputs": [],
   "source": [
    "config_files_E = glob(testdir + 'configE*.yaml')"
   ]
  },
  {
   "cell_type": "code",
   "execution_count": null,
   "metadata": {
    "collapsed": true
   },
   "outputs": [],
   "source": [
    "d"
   ]
  },
  {
   "cell_type": "code",
   "execution_count": null,
   "metadata": {
    "collapsed": true
   },
   "outputs": [],
   "source": [
    "del config_files_E[0]\n",
    "config_files_E"
   ]
  },
  {
   "cell_type": "code",
   "execution_count": null,
   "metadata": {
    "collapsed": true
   },
   "outputs": [],
   "source": [
    "names = ['Teflon', 'Silicone']"
   ]
  },
  {
   "cell_type": "code",
   "execution_count": null,
   "metadata": {
    "collapsed": true
   },
   "outputs": [],
   "source": [
    "%matplotlib inline\n",
    "import matplotlib.pyplot as plt"
   ]
  },
  {
   "cell_type": "code",
   "execution_count": null,
   "metadata": {
    "collapsed": true
   },
   "outputs": [],
   "source": [
    "from plotSim import plotAeffComparison, plotThetaComparison\n",
    "from bcSim import simFiles\n",
    "from glob import glob"
   ]
  },
  {
   "cell_type": "code",
   "execution_count": null,
   "metadata": {
    "collapsed": true
   },
   "outputs": [],
   "source": [
    "sims_E = [simFiles(config_file) for config_file in config_files_E]"
   ]
  },
  {
   "cell_type": "code",
   "execution_count": null,
   "metadata": {
    "collapsed": true
   },
   "outputs": [],
   "source": [
    "plotAeffComparison(sims_E, names, compareTo='Teflon')"
   ]
  },
  {
   "cell_type": "code",
   "execution_count": null,
   "metadata": {
    "collapsed": true
   },
   "outputs": [],
   "source": [
    "aeffs_E = [sim.calculateAeff(useEres=False) for sim in sims_E]"
   ]
  },
  {
   "cell_type": "code",
   "execution_count": null,
   "metadata": {
    "collapsed": true
   },
   "outputs": [],
   "source": [
    "aeffs_E"
   ]
  },
  {
   "cell_type": "markdown",
   "metadata": {},
   "source": [
    "I'd like to point out I am using a much smaller energy range than the one on the given example, but as far as I can tell from here the trend looks correct. Will look more into understanding how to do this for angular dependences next!"
   ]
  },
  {
   "cell_type": "code",
   "execution_count": null,
   "metadata": {
    "collapsed": true
   },
   "outputs": [],
   "source": []
  },
  {
   "cell_type": "code",
   "execution_count": null,
   "metadata": {
    "collapsed": true
   },
   "outputs": [],
   "source": [
    "import plotSim"
   ]
  },
  {
   "cell_type": "code",
   "execution_count": null,
   "metadata": {
    "collapsed": true
   },
   "outputs": [],
   "source": [
    "from bcSim import simFiles\n"
   ]
  },
  {
   "cell_type": "code",
   "execution_count": null,
   "metadata": {
    "collapsed": true
   },
   "outputs": [],
   "source": [
    "sfs = simFiles(testdir + 'configsilicone.yaml')"
   ]
  },
  {
   "cell_type": "code",
   "execution_count": null,
   "metadata": {
    "collapsed": true
   },
   "outputs": [],
   "source": [
    "#Need to iterate through files\n"
   ]
  },
  {
   "cell_type": "code",
   "execution_count": null,
   "metadata": {
    "collapsed": true
   },
   "outputs": [],
   "source": [
    "import plotSim"
   ]
  },
  {
   "cell_type": "markdown",
   "metadata": {},
   "source": [
    "plotSim.plotAeff = all the sim files in here, and that's what I need to use"
   ]
  },
  {
   "cell_type": "code",
   "execution_count": null,
   "metadata": {
    "collapsed": true
   },
   "outputs": [],
   "source": [
    "import bcSim"
   ]
  },
  {
   "cell_type": "code",
   "execution_count": null,
   "metadata": {
    "collapsed": true,
    "scrolled": false
   },
   "outputs": [],
   "source": [
    "plotSim.plotAeff(sfs)"
   ]
  },
  {
   "cell_type": "code",
   "execution_count": null,
   "metadata": {
    "collapsed": true
   },
   "outputs": [],
   "source": []
  }
 ],
 "metadata": {
  "kernelspec": {
   "display_name": "Python 3",
   "language": "python",
   "name": "python3"
  },
  "language_info": {
   "codemirror_mode": {
    "name": "ipython",
    "version": 3
   },
   "file_extension": ".py",
   "mimetype": "text/x-python",
   "name": "python",
   "nbconvert_exporter": "python",
   "pygments_lexer": "ipython3",
   "version": "3.6.1"
  }
 },
 "nbformat": 4,
 "nbformat_minor": 2
}
