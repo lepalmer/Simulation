{
 "cells": [
  {
   "cell_type": "markdown",
   "metadata": {},
   "source": [
    "In this notebook are all the tools I need to load in a MEGAlib simulation for a given detector geometry, specified in the directory MEGAlib/geo/ ... look at the config.yaml file in order to determine which geometry file is currently being tested, and manipulated in there along with other factors to test."
   ]
  },
  {
   "cell_type": "markdown",
   "metadata": {},
   "source": [
    "Part I \n",
    "------\n",
    "\n",
    "Creating .source files"
   ]
  },
  {
   "cell_type": "code",
   "execution_count": null,
   "metadata": {
    "collapsed": true
   },
   "outputs": [],
   "source": [
    "import os"
   ]
  },
  {
   "cell_type": "code",
   "execution_count": 3,
   "metadata": {},
   "outputs": [
    {
     "data": {
      "text/plain": [
       "'/Users/noahkasmanoff/BurstCube/Simulation/MEGAlib/bin'"
      ]
     },
     "execution_count": 3,
     "metadata": {},
     "output_type": "execute_result"
    }
   ],
   "source": [
    "pwd"
   ]
  },
  {
   "cell_type": "code",
   "execution_count": null,
   "metadata": {
    "collapsed": true
   },
   "outputs": [],
   "source": [
    "#change the directory so gz files immediately go where I want them to.\n",
    "\n",
    "\n"
   ]
  },
  {
   "cell_type": "code",
   "execution_count": 7,
   "metadata": {
    "collapsed": true
   },
   "outputs": [],
   "source": [
    "#import the simgenerator\n",
    "import simGenerator\n"
   ]
  },
  {
   "cell_type": "code",
   "execution_count": 8,
   "metadata": {},
   "outputs": [],
   "source": [
    "#use proper directory, and create a configureator object.\n",
    "testdir = '/Users/noahkasmanoff/BurstCube/Simulation/MEGAlib/test/'\n",
    "\n",
    "noahdir = '/Users/noahkasmanoff/BurstCube/Simulation/MEGAlib/test/noahcube/'  #dir for my version\n",
    "controldir = '/Users/noahkasmanoff/BurstCube/Simulation/MEGAlib/test/control/' #dir for control (no plating etc.)\n",
    "\n",
    "confnoah = simGenerator.configurator(testdir+'configNoah.yaml')  #sampling throughout sky, const E\n",
    "confreg = simGenerator.configurator(testdir+'config.yaml')\n",
    "confnoahE = simGenerator.configurator(testdir+'configNoahE.yaml')  #sampling energies, const pos\n",
    "confregE = simGenerator.configurator(testdir+'configE.yaml')"
   ]
  },
  {
   "cell_type": "code",
   "execution_count": null,
   "metadata": {
    "collapsed": true
   },
   "outputs": [],
   "source": [
    "#an action taken by the configurator, create source files. \n",
    "confnoah.createSourceFiles()\n",
    "confreg.createSourceFiles()\n",
    "confnoahE.createSourceFiles()\n",
    "confregE.createSourceFiles()"
   ]
  },
  {
   "cell_type": "code",
   "execution_count": null,
   "metadata": {
    "collapsed": true
   },
   "outputs": [],
   "source": [
    "import runSims"
   ]
  },
  {
   "cell_type": "code",
   "execution_count": null,
   "metadata": {},
   "outputs": [],
   "source": []
  },
  {
   "cell_type": "markdown",
   "metadata": {},
   "source": [
    "Take the most recent geometry file, and run a simulation of effective area, energy, all plots etc with 1000 events \n",
    "\n",
    "as I add features, want to continously compare to the base version of it.\n",
    "\n",
    "Using a compare function in the plot tools that does this. \n",
    "\n"
   ]
  },
  {
   "cell_type": "code",
   "execution_count": null,
   "metadata": {
    "scrolled": true
   },
   "outputs": [],
   "source": [
    "os.chdir(noahdir)\n",
    "\n",
    "files = os.listdir(noahdir)\n",
    "for file in files:\n",
    "    if file[-1] == 'e': #one way to find a sim\n",
    "        print('file: ' + file)\n",
    "        runSims.runCosima(noahdir + file)\n",
    "    "
   ]
  },
  {
   "cell_type": "code",
   "execution_count": null,
   "metadata": {},
   "outputs": [],
   "source": [
    "os.chdir(controldir)\n",
    "\n",
    "files = os.listdir(controldir)\n",
    "for file in files:\n",
    "    if file[-1] == 'e': #one way to find a sim\n",
    "        print('file: ' + file)\n",
    "        runSims.runCosima(controldir + file)"
   ]
  },
  {
   "cell_type": "markdown",
   "metadata": {},
   "source": [
    "Part 3\n",
    "-----\n",
    "\n",
    "Plotting results"
   ]
  },
  {
   "cell_type": "code",
   "execution_count": null,
   "metadata": {
    "collapsed": true
   },
   "outputs": [],
   "source": [
    "%matplotlib inline\n",
    "import matplotlib.pyplot as plt"
   ]
  },
  {
   "cell_type": "code",
   "execution_count": 1,
   "metadata": {
    "collapsed": true
   },
   "outputs": [],
   "source": [
    "from plotSim import plotAeffComparison, plotThetaComparison\n",
    "from bcSim import simFiles\n",
    "from glob import glob"
   ]
  },
  {
   "cell_type": "code",
   "execution_count": null,
   "metadata": {
    "collapsed": true
   },
   "outputs": [],
   "source": [
    "config_files_E = glob('')"
   ]
  },
  {
   "cell_type": "code",
   "execution_count": null,
   "metadata": {
    "collapsed": true
   },
   "outputs": [],
   "source": [
    "names = ['Control','Metal Plate']"
   ]
  },
  {
   "cell_type": "code",
   "execution_count": 11,
   "metadata": {},
   "outputs": [
    {
     "data": {
      "text/plain": [
       "'/Users/noahkasmanoff/BurstCube/Simulation/MEGAlib/test/'"
      ]
     },
     "execution_count": 11,
     "metadata": {},
     "output_type": "execute_result"
    }
   ],
   "source": [
    "testdir"
   ]
  },
  {
   "cell_type": "code",
   "execution_count": null,
   "metadata": {
    "collapsed": true
   },
   "outputs": [],
   "source": [
    "import glob"
   ]
  },
  {
   "cell_type": "code",
   "execution_count": 9,
   "metadata": {},
   "outputs": [],
   "source": [
    "config_files_E = glob(testdir + 'configE*.yaml')"
   ]
  },
  {
   "cell_type": "code",
   "execution_count": null,
   "metadata": {
    "collapsed": true
   },
   "outputs": [],
   "source": [
    "del config_files_E[0]\n",
    "config_files_E"
   ]
  },
  {
   "cell_type": "code",
   "execution_count": null,
   "metadata": {
    "collapsed": true
   },
   "outputs": [],
   "source": [
    "names = ['Teflon', 'Silicone']"
   ]
  },
  {
   "cell_type": "code",
   "execution_count": null,
   "metadata": {
    "collapsed": true
   },
   "outputs": [],
   "source": [
    "%matplotlib inline\n",
    "import matplotlib.pyplot as plt"
   ]
  },
  {
   "cell_type": "code",
   "execution_count": null,
   "metadata": {
    "collapsed": true
   },
   "outputs": [],
   "source": [
    "from plotSim import plotAeffComparison, plotThetaComparison\n",
    "from bcSim import simFiles\n",
    "from glob import glob"
   ]
  },
  {
   "cell_type": "code",
   "execution_count": null,
   "metadata": {},
   "outputs": [],
   "source": [
    "sims_E = [simFiles(config_file) for config_file in config_files_E]"
   ]
  },
  {
   "cell_type": "code",
   "execution_count": null,
   "metadata": {},
   "outputs": [],
   "source": [
    "plotAeffComparison(sims_E, names, compareTo='Teflon')"
   ]
  },
  {
   "cell_type": "code",
   "execution_count": null,
   "metadata": {
    "collapsed": true
   },
   "outputs": [],
   "source": [
    "aeffs_E = [sim.calculateAeff(useEres=False) for sim in sims_E]"
   ]
  },
  {
   "cell_type": "code",
   "execution_count": null,
   "metadata": {},
   "outputs": [],
   "source": [
    "aeffs_E"
   ]
  },
  {
   "cell_type": "markdown",
   "metadata": {},
   "source": [
    "I'd like to point out I am using a much smaller energy range than the one on the given example, but as far as I can tell from here the trend looks correct. Will look more into understanding how to do this for angular dependences next!"
   ]
  },
  {
   "cell_type": "code",
   "execution_count": null,
   "metadata": {
    "collapsed": true
   },
   "outputs": [],
   "source": []
  },
  {
   "cell_type": "code",
   "execution_count": null,
   "metadata": {
    "collapsed": true
   },
   "outputs": [],
   "source": [
    "import plotSim"
   ]
  },
  {
   "cell_type": "code",
   "execution_count": null,
   "metadata": {
    "collapsed": true
   },
   "outputs": [],
   "source": [
    "from bcSim import simFiles\n"
   ]
  },
  {
   "cell_type": "code",
   "execution_count": null,
   "metadata": {
    "collapsed": true
   },
   "outputs": [],
   "source": [
    "sfs = simFiles(testdir + 'configsilicone.yaml')"
   ]
  },
  {
   "cell_type": "code",
   "execution_count": null,
   "metadata": {
    "collapsed": true
   },
   "outputs": [],
   "source": [
    "#Need to iterate through files\n"
   ]
  },
  {
   "cell_type": "code",
   "execution_count": null,
   "metadata": {
    "collapsed": true
   },
   "outputs": [],
   "source": [
    "import plotSim"
   ]
  },
  {
   "cell_type": "markdown",
   "metadata": {},
   "source": [
    "plotSim.plotAeff = all the sim files in here, and that's what I need to use"
   ]
  },
  {
   "cell_type": "code",
   "execution_count": null,
   "metadata": {
    "collapsed": true
   },
   "outputs": [],
   "source": [
    "import bcSim"
   ]
  },
  {
   "cell_type": "code",
   "execution_count": null,
   "metadata": {
    "collapsed": true,
    "scrolled": false
   },
   "outputs": [],
   "source": [
    "plotSim.plotAeff(sfs)"
   ]
  },
  {
   "cell_type": "code",
   "execution_count": null,
   "metadata": {
    "collapsed": true
   },
   "outputs": [],
   "source": []
  }
 ],
 "metadata": {
  "kernelspec": {
   "display_name": "Python 3",
   "language": "python",
   "name": "python3"
  },
  "language_info": {
   "codemirror_mode": {
    "name": "ipython",
    "version": 3
   },
   "file_extension": ".py",
   "mimetype": "text/x-python",
   "name": "python",
   "nbconvert_exporter": "python",
   "pygments_lexer": "ipython3",
   "version": "3.6.1"
  }
 },
 "nbformat": 4,
 "nbformat_minor": 2
}
