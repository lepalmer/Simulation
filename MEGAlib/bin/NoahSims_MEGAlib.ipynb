{
 "cells": [
  {
   "cell_type": "markdown",
   "metadata": {},
   "source": [
    "In this notebook are all the tools I need to load in a MEGAlib simulation for a given detector geometry, specified in the directory MEGAlib/geo/ ... look at the config.yaml file in order to determine which geometry file is currently being tested, and manipulated in there along with other factors to test."
   ]
  },
  {
   "cell_type": "markdown",
   "metadata": {},
   "source": [
    "Part I \n",
    "------\n",
    "\n",
    "Creating .source files"
   ]
  },
  {
   "cell_type": "code",
   "execution_count": 1,
   "metadata": {
    "collapsed": true
   },
   "outputs": [],
   "source": [
    "import os"
   ]
  },
  {
   "cell_type": "code",
   "execution_count": null,
   "metadata": {
    "collapsed": true
   },
   "outputs": [],
   "source": [
    "pwd"
   ]
  },
  {
   "cell_type": "code",
   "execution_count": null,
   "metadata": {
    "collapsed": true
   },
   "outputs": [],
   "source": [
    "#change the directory so gz files immediately go where I want them to.\n",
    "\n",
    "\n"
   ]
  },
  {
   "cell_type": "code",
   "execution_count": 2,
   "metadata": {
    "collapsed": true
   },
   "outputs": [],
   "source": [
    "#import the simgenerator\n",
    "import simGenerator\n",
    "\n"
   ]
  },
  {
   "cell_type": "code",
   "execution_count": 3,
   "metadata": {},
   "outputs": [],
   "source": [
    "#use proper directory, and create a configureator object.\n",
    "testdir = '/Users/noahkasmanoff/BurstCube/Simulation/MEGAlib/test/'\n",
    "\n",
    "noahdir = '/Users/noahkasmanoff/BurstCube/Simulation/MEGAlib/test/noahcube/'  #dir for my version\n",
    "controldir = '/Users/noahkasmanoff/BurstCube/Simulation/MEGAlib/test/control/' #dir for control (no plating etc.)\n",
    "\n",
    "confnoah = simGenerator.configurator(testdir+'configNoah.yaml')  #sampling throughout sky, const E\n",
    "confreg = simGenerator.configurator(testdir+'config.yaml')\n",
    "confnoahE = simGenerator.configurator(testdir+'configENoah.yaml')  #sampling energies, const pos\n",
    "confregE = simGenerator.configurator(testdir+'configE.yaml')"
   ]
  },
  {
   "cell_type": "code",
   "execution_count": 16,
   "metadata": {},
   "outputs": [
    {
     "name": "stdout",
     "output_type": "stream",
     "text": [
      "Loading $BURSTCUBE/Simulation/MEGAlib/test/noahcube//BurstCube_20.000keV_0.00ze_0.00az.inc1.id1.sim\n"
     ]
    },
    {
     "ename": "FileNotFoundError",
     "evalue": "[Errno 2] No such file or directory: 'CalorimeterCSIProperties.det'",
     "output_type": "error",
     "traceback": [
      "\u001b[0;31m----------------------------------------------------------------\u001b[0m",
      "\u001b[0;31mFileNotFoundError\u001b[0m              Traceback (most recent call last)",
      "\u001b[0;32m<ipython-input-16-7ec82334821c>\u001b[0m in \u001b[0;36m<module>\u001b[0;34m()\u001b[0m\n\u001b[0;32m----> 1\u001b[0;31m \u001b[0msfs\u001b[0m \u001b[0;34m=\u001b[0m \u001b[0msimFiles\u001b[0m\u001b[0;34m(\u001b[0m\u001b[0mtestdir\u001b[0m\u001b[0;34m+\u001b[0m\u001b[0;34m'configENoah.yaml'\u001b[0m\u001b[0;34m)\u001b[0m\u001b[0;34m\u001b[0m\u001b[0m\n\u001b[0m",
      "\u001b[0;32m/Users/noahkasmanoff/BurstCube/Simulation/MEGAlib/bin/bcSim.py\u001b[0m in \u001b[0;36m__init__\u001b[0;34m(self, config_file)\u001b[0m\n\u001b[1;32m     16\u001b[0m \u001b[0;34m\u001b[0m\u001b[0m\n\u001b[1;32m     17\u001b[0m         \u001b[0mself\u001b[0m\u001b[0;34m.\u001b[0m\u001b[0mconf\u001b[0m \u001b[0;34m=\u001b[0m \u001b[0mconfigurator\u001b[0m\u001b[0;34m(\u001b[0m\u001b[0mconfig_file\u001b[0m\u001b[0;34m)\u001b[0m\u001b[0;34m\u001b[0m\u001b[0m\n\u001b[0;32m---> 18\u001b[0;31m         \u001b[0mself\u001b[0m\u001b[0;34m.\u001b[0m\u001b[0msims\u001b[0m \u001b[0;34m=\u001b[0m \u001b[0mself\u001b[0m\u001b[0;34m.\u001b[0m\u001b[0mloadFiles\u001b[0m\u001b[0;34m(\u001b[0m\u001b[0;34m)\u001b[0m\u001b[0;34m\u001b[0m\u001b[0m\n\u001b[0m\u001b[1;32m     19\u001b[0m \u001b[0;34m\u001b[0m\u001b[0m\n\u001b[1;32m     20\u001b[0m     \u001b[0;32mdef\u001b[0m \u001b[0mloadFiles\u001b[0m\u001b[0;34m(\u001b[0m\u001b[0mself\u001b[0m\u001b[0;34m)\u001b[0m\u001b[0;34m:\u001b[0m\u001b[0;34m\u001b[0m\u001b[0m\n",
      "\u001b[0;32m/Users/noahkasmanoff/BurstCube/Simulation/MEGAlib/bin/bcSim.py\u001b[0m in \u001b[0;36mloadFiles\u001b[0;34m(self)\u001b[0m\n\u001b[1;32m     50\u001b[0m                          \u001b[0;34m+\u001b[0m \u001b[0;34m'/'\u001b[0m\u001b[0;34m+\u001b[0m\u001b[0mfname\u001b[0m\u001b[0;34m+\u001b[0m\u001b[0;34m'.source'\u001b[0m\u001b[0;34m,\u001b[0m\u001b[0;34m\u001b[0m\u001b[0m\n\u001b[1;32m     51\u001b[0m                          \u001b[0mself\u001b[0m\u001b[0;34m.\u001b[0m\u001b[0mconf\u001b[0m\u001b[0;34m.\u001b[0m\u001b[0mconfig\u001b[0m\u001b[0;34m[\u001b[0m\u001b[0;34m'run'\u001b[0m\u001b[0;34m]\u001b[0m\u001b[0;34m[\u001b[0m\u001b[0;34m'simdir'\u001b[0m\u001b[0;34m]\u001b[0m\u001b[0;34m\u001b[0m\u001b[0m\n\u001b[0;32m---> 52\u001b[0;31m                          + '/'+fname+'.stdout.gz')\n\u001b[0m\u001b[1;32m     53\u001b[0m             \u001b[0msfs\u001b[0m\u001b[0;34m.\u001b[0m\u001b[0mappend\u001b[0m\u001b[0;34m(\u001b[0m\u001b[0msf\u001b[0m\u001b[0;34m)\u001b[0m\u001b[0;34m\u001b[0m\u001b[0m\n\u001b[1;32m     54\u001b[0m \u001b[0;34m\u001b[0m\u001b[0m\n",
      "\u001b[0;32m/Users/noahkasmanoff/BurstCube/Simulation/MEGAlib/bin/bcSim.py\u001b[0m in \u001b[0;36m__init__\u001b[0;34m(self, simFile, sourceFile, logFile)\u001b[0m\n\u001b[1;32m    201\u001b[0m         self.geoDict = self.fileToDict(self.srcDict['Geometry'][0],\n\u001b[1;32m    202\u001b[0m                                        '//', None)\n\u001b[0;32m--> 203\u001b[0;31m         \u001b[0mself\u001b[0m\u001b[0;34m.\u001b[0m\u001b[0meres\u001b[0m \u001b[0;34m=\u001b[0m \u001b[0mself\u001b[0m\u001b[0;34m.\u001b[0m\u001b[0mgetEresFromFile\u001b[0m\u001b[0;34m(\u001b[0m\u001b[0mself\u001b[0m\u001b[0;34m.\u001b[0m\u001b[0mgeoDict\u001b[0m\u001b[0;34m[\u001b[0m\u001b[0;34m'Include'\u001b[0m\u001b[0;34m]\u001b[0m\u001b[0;34m[\u001b[0m\u001b[0;36m1\u001b[0m\u001b[0;34m]\u001b[0m\u001b[0;34m)\u001b[0m\u001b[0;34m\u001b[0m\u001b[0m\n\u001b[0m\u001b[1;32m    204\u001b[0m \u001b[0;34m\u001b[0m\u001b[0m\n\u001b[1;32m    205\u001b[0m         \u001b[0;32mif\u001b[0m \u001b[0mlogFile\u001b[0m\u001b[0;34m:\u001b[0m\u001b[0;34m\u001b[0m\u001b[0m\n",
      "\u001b[0;32m/Users/noahkasmanoff/BurstCube/Simulation/MEGAlib/bin/bcSim.py\u001b[0m in \u001b[0;36mgetEresFromFile\u001b[0;34m(self, filename, commentString)\u001b[0m\n\u001b[1;32m    269\u001b[0m         \u001b[0meres_lines\u001b[0m \u001b[0;34m=\u001b[0m \u001b[0;34m[\u001b[0m\u001b[0;34m]\u001b[0m\u001b[0;34m\u001b[0m\u001b[0m\n\u001b[1;32m    270\u001b[0m         \u001b[0mfilename\u001b[0m \u001b[0;34m=\u001b[0m \u001b[0mpath\u001b[0m\u001b[0;34m.\u001b[0m\u001b[0mexpandvars\u001b[0m\u001b[0;34m(\u001b[0m\u001b[0mfilename\u001b[0m\u001b[0;34m)\u001b[0m\u001b[0;34m\u001b[0m\u001b[0m\n\u001b[0;32m--> 271\u001b[0;31m         \u001b[0;32mwith\u001b[0m \u001b[0mopen\u001b[0m\u001b[0;34m(\u001b[0m\u001b[0mfilename\u001b[0m\u001b[0;34m)\u001b[0m \u001b[0;32mas\u001b[0m \u001b[0mf\u001b[0m\u001b[0;34m:\u001b[0m\u001b[0;34m\u001b[0m\u001b[0m\n\u001b[0m\u001b[1;32m    272\u001b[0m             \u001b[0;32mfor\u001b[0m \u001b[0mline\u001b[0m \u001b[0;32min\u001b[0m \u001b[0mf\u001b[0m\u001b[0;34m:\u001b[0m\u001b[0;34m\u001b[0m\u001b[0m\n\u001b[1;32m    273\u001b[0m                 \u001b[0;32mif\u001b[0m \u001b[0mcommentString\u001b[0m \u001b[0;32mnot\u001b[0m \u001b[0;32min\u001b[0m \u001b[0mline\u001b[0m\u001b[0;34m:\u001b[0m\u001b[0;34m\u001b[0m\u001b[0m\n",
      "\u001b[0;31mFileNotFoundError\u001b[0m: [Errno 2] No such file or directory: 'CalorimeterCSIProperties.det'"
     ]
    }
   ],
   "source": [
    "sfs = simFiles(testdir+'configENoah.yaml')"
   ]
  },
  {
   "cell_type": "code",
   "execution_count": null,
   "metadata": {},
   "outputs": [],
   "source": [
    "confnoahE.config"
   ]
  },
  {
   "cell_type": "code",
   "execution_count": null,
   "metadata": {
    "collapsed": true
   },
   "outputs": [],
   "source": [
    "#an action taken by the configurator, create source files. \n",
    "confnoah.createSourceFiles(noahdir)\n",
    "confreg.createSourceFiles(controldir)\n",
    "confnoahE.createSourceFiles(noahdir)\n",
    "confregE.createSourceFiles(controldir)"
   ]
  },
  {
   "cell_type": "code",
   "execution_count": 4,
   "metadata": {
    "collapsed": true
   },
   "outputs": [],
   "source": [
    "import runSims"
   ]
  },
  {
   "cell_type": "code",
   "execution_count": null,
   "metadata": {
    "collapsed": true
   },
   "outputs": [],
   "source": [
    "runSims.runCosima?"
   ]
  },
  {
   "cell_type": "markdown",
   "metadata": {},
   "source": [
    "Take the most recent geometry file, and run a simulation of effective area, energy, all plots etc with 1000 events \n",
    "\n",
    "as I add features, want to continously compare to the base version of it.\n",
    "\n",
    "Using a compare function in the plot tools that does this. \n",
    "\n"
   ]
  },
  {
   "cell_type": "code",
   "execution_count": null,
   "metadata": {
    "collapsed": true
   },
   "outputs": [],
   "source": [
    "os.chdir(noahdir)\n"
   ]
  },
  {
   "cell_type": "code",
   "execution_count": null,
   "metadata": {},
   "outputs": [],
   "source": [
    "pwd"
   ]
  },
  {
   "cell_type": "code",
   "execution_count": null,
   "metadata": {
    "collapsed": true
   },
   "outputs": [],
   "source": []
  },
  {
   "cell_type": "code",
   "execution_count": null,
   "metadata": {
    "scrolled": true
   },
   "outputs": [],
   "source": [
    "os.chdir(noahdir)\n",
    "\n",
    "files = os.listdir(noahdir)\n",
    "for file in files:\n",
    "    if file[-1] == 'e': #one way to find a sim\n",
    "        print('file: ' + file)\n",
    "        runSims.runCosima(noahdir + file)\n",
    "    "
   ]
  },
  {
   "cell_type": "code",
   "execution_count": null,
   "metadata": {
    "scrolled": true
   },
   "outputs": [],
   "source": [
    "os.chdir(controldir)\n",
    "\n",
    "files = os.listdir(controldir)\n",
    "for file in files:\n",
    "    if file[-1] == 'e': #one way to find a sim\n",
    "        print('file: ' + file)\n",
    "        runSims.runCosima(controldir + file)"
   ]
  },
  {
   "cell_type": "markdown",
   "metadata": {},
   "source": [
    "Part 3\n",
    "-----\n",
    "\n",
    "Plotting results"
   ]
  },
  {
   "cell_type": "code",
   "execution_count": 5,
   "metadata": {
    "collapsed": true
   },
   "outputs": [],
   "source": [
    "%matplotlib inline\n",
    "import matplotlib.pyplot as plt"
   ]
  },
  {
   "cell_type": "code",
   "execution_count": 6,
   "metadata": {
    "collapsed": true
   },
   "outputs": [],
   "source": [
    "from plotSim import plotAeffComparison, plotThetaComparison\n",
    "from bcSim import simFiles\n",
    "from glob import glob"
   ]
  },
  {
   "cell_type": "code",
   "execution_count": 10,
   "metadata": {},
   "outputs": [],
   "source": [
    "config_files_E = glob(testdir + 'configE*.yaml')"
   ]
  },
  {
   "cell_type": "code",
   "execution_count": 11,
   "metadata": {},
   "outputs": [
    {
     "data": {
      "text/plain": [
       "['/Users/noahkasmanoff/BurstCube/Simulation/MEGAlib/test/configE.yaml',\n",
       " '/Users/noahkasmanoff/BurstCube/Simulation/MEGAlib/test/configENoah.yaml',\n",
       " '/Users/noahkasmanoff/BurstCube/Simulation/MEGAlib/test/configEsilicone.yaml',\n",
       " '/Users/noahkasmanoff/BurstCube/Simulation/MEGAlib/test/configEteflon.yaml']"
      ]
     },
     "execution_count": 11,
     "metadata": {},
     "output_type": "execute_result"
    }
   ],
   "source": [
    "config_files_E"
   ]
  },
  {
   "cell_type": "code",
   "execution_count": null,
   "metadata": {},
   "outputs": [],
   "source": [
    "del config_files_E[-1]"
   ]
  },
  {
   "cell_type": "code",
   "execution_count": 21,
   "metadata": {
    "collapsed": true
   },
   "outputs": [],
   "source": [
    "names = ['Control','Metal Plate','silicone',\n",
    "        'Teflon']"
   ]
  },
  {
   "cell_type": "code",
   "execution_count": 19,
   "metadata": {},
   "outputs": [
    {
     "name": "stdout",
     "output_type": "stream",
     "text": [
      "Loading $BURSTCUBE/Simulation/MEGAlib/test/control//BurstCube_20.000keV_0.00ze_0.00az.inc1.id1.sim\n",
      "Loading $BURSTCUBE/Simulation/MEGAlib/test/control//BurstCube_25.129keV_0.00ze_0.00az.inc1.id1.sim\n",
      "Loading $BURSTCUBE/Simulation/MEGAlib/test/control//BurstCube_31.573keV_0.00ze_0.00az.inc1.id1.sim\n",
      "Loading $BURSTCUBE/Simulation/MEGAlib/test/control//BurstCube_39.669keV_0.00ze_0.00az.inc1.id1.sim\n",
      "Loading $BURSTCUBE/Simulation/MEGAlib/test/control//BurstCube_49.841keV_0.00ze_0.00az.inc1.id1.sim\n",
      "Loading $BURSTCUBE/Simulation/MEGAlib/test/control//BurstCube_62.622keV_0.00ze_0.00az.inc1.id1.sim\n",
      "Loading $BURSTCUBE/Simulation/MEGAlib/test/control//BurstCube_78.681keV_0.00ze_0.00az.inc1.id1.sim\n",
      "Loading $BURSTCUBE/Simulation/MEGAlib/test/control//BurstCube_98.858keV_0.00ze_0.00az.inc1.id1.sim\n",
      "Loading $BURSTCUBE/Simulation/MEGAlib/test/control//BurstCube_124.208keV_0.00ze_0.00az.inc1.id1.sim\n",
      "Loading $BURSTCUBE/Simulation/MEGAlib/test/control//BurstCube_156.060keV_0.00ze_0.00az.inc1.id1.sim\n",
      "Loading $BURSTCUBE/Simulation/MEGAlib/test/control//BurstCube_196.079keV_0.00ze_0.00az.inc1.id1.sim\n",
      "Loading $BURSTCUBE/Simulation/MEGAlib/test/control//BurstCube_246.360keV_0.00ze_0.00az.inc1.id1.sim\n",
      "Loading $BURSTCUBE/Simulation/MEGAlib/test/control//BurstCube_309.536keV_0.00ze_0.00az.inc1.id1.sim\n",
      "Loading $BURSTCUBE/Simulation/MEGAlib/test/control//BurstCube_388.911keV_0.00ze_0.00az.inc1.id1.sim\n",
      "Loading $BURSTCUBE/Simulation/MEGAlib/test/control//BurstCube_488.642keV_0.00ze_0.00az.inc1.id1.sim\n",
      "Loading $BURSTCUBE/Simulation/MEGAlib/test/control//BurstCube_613.947keV_0.00ze_0.00az.inc1.id1.sim\n",
      "Loading $BURSTCUBE/Simulation/MEGAlib/test/control//BurstCube_771.384keV_0.00ze_0.00az.inc1.id1.sim\n",
      "Loading $BURSTCUBE/Simulation/MEGAlib/test/control//BurstCube_969.194keV_0.00ze_0.00az.inc1.id1.sim\n",
      "Loading $BURSTCUBE/Simulation/MEGAlib/test/control//BurstCube_1217.729keV_0.00ze_0.00az.inc1.id1.sim\n",
      "Loading $BURSTCUBE/Simulation/MEGAlib/test/control//BurstCube_1529.998keV_0.00ze_0.00az.inc1.id1.sim\n",
      "Loading $BURSTCUBE/Simulation/MEGAlib/test/control//BurstCube_1922.343keV_0.00ze_0.00az.inc1.id1.sim\n",
      "Loading $BURSTCUBE/Simulation/MEGAlib/test/control//BurstCube_2415.299keV_0.00ze_0.00az.inc1.id1.sim\n",
      "Loading $BURSTCUBE/Simulation/MEGAlib/test/control//BurstCube_3034.666keV_0.00ze_0.00az.inc1.id1.sim\n",
      "Loading $BURSTCUBE/Simulation/MEGAlib/test/control//BurstCube_3812.861keV_0.00ze_0.00az.inc1.id1.sim\n",
      "Loading $BURSTCUBE/Simulation/MEGAlib/test/control//BurstCube_4790.612keV_0.00ze_0.00az.inc1.id1.sim\n",
      "Loading $BURSTCUBE/Simulation/MEGAlib/test/control//BurstCube_6019.093keV_0.00ze_0.00az.inc1.id1.sim\n",
      "Loading $BURSTCUBE/Simulation/MEGAlib/test/control//BurstCube_7562.600keV_0.00ze_0.00az.inc1.id1.sim\n",
      "Loading $BURSTCUBE/Simulation/MEGAlib/test/control//BurstCube_9501.916keV_0.00ze_0.00az.inc1.id1.sim\n",
      "Loading $BURSTCUBE/Simulation/MEGAlib/test/control//BurstCube_11938.540keV_0.00ze_0.00az.inc1.id1.sim\n",
      "Loading $BURSTCUBE/Simulation/MEGAlib/test/control//BurstCube_15000.000keV_0.00ze_0.00az.inc1.id1.sim\n",
      "Loading $BURSTCUBE/Simulation/MEGAlib/test/noahcube//BurstCube_20.000keV_0.00ze_0.00az.inc1.id1.sim\n",
      "Loading $BURSTCUBE/Simulation/MEGAlib/test/noahcube//BurstCube_25.129keV_0.00ze_0.00az.inc1.id1.sim\n",
      "Loading $BURSTCUBE/Simulation/MEGAlib/test/noahcube//BurstCube_31.573keV_0.00ze_0.00az.inc1.id1.sim\n",
      "Loading $BURSTCUBE/Simulation/MEGAlib/test/noahcube//BurstCube_39.669keV_0.00ze_0.00az.inc1.id1.sim\n",
      "Loading $BURSTCUBE/Simulation/MEGAlib/test/noahcube//BurstCube_49.841keV_0.00ze_0.00az.inc1.id1.sim\n",
      "Loading $BURSTCUBE/Simulation/MEGAlib/test/noahcube//BurstCube_62.622keV_0.00ze_0.00az.inc1.id1.sim\n",
      "Loading $BURSTCUBE/Simulation/MEGAlib/test/noahcube//BurstCube_78.681keV_0.00ze_0.00az.inc1.id1.sim\n",
      "Loading $BURSTCUBE/Simulation/MEGAlib/test/noahcube//BurstCube_98.858keV_0.00ze_0.00az.inc1.id1.sim\n",
      "Loading $BURSTCUBE/Simulation/MEGAlib/test/noahcube//BurstCube_124.208keV_0.00ze_0.00az.inc1.id1.sim\n",
      "Loading $BURSTCUBE/Simulation/MEGAlib/test/noahcube//BurstCube_156.060keV_0.00ze_0.00az.inc1.id1.sim\n",
      "Loading $BURSTCUBE/Simulation/MEGAlib/test/noahcube//BurstCube_196.079keV_0.00ze_0.00az.inc1.id1.sim\n",
      "Loading $BURSTCUBE/Simulation/MEGAlib/test/noahcube//BurstCube_246.360keV_0.00ze_0.00az.inc1.id1.sim\n",
      "Loading $BURSTCUBE/Simulation/MEGAlib/test/noahcube//BurstCube_309.536keV_0.00ze_0.00az.inc1.id1.sim\n",
      "Loading $BURSTCUBE/Simulation/MEGAlib/test/noahcube//BurstCube_388.911keV_0.00ze_0.00az.inc1.id1.sim\n",
      "Loading $BURSTCUBE/Simulation/MEGAlib/test/noahcube//BurstCube_488.642keV_0.00ze_0.00az.inc1.id1.sim\n",
      "Loading $BURSTCUBE/Simulation/MEGAlib/test/noahcube//BurstCube_613.947keV_0.00ze_0.00az.inc1.id1.sim\n",
      "Loading $BURSTCUBE/Simulation/MEGAlib/test/noahcube//BurstCube_771.384keV_0.00ze_0.00az.inc1.id1.sim\n",
      "Loading $BURSTCUBE/Simulation/MEGAlib/test/noahcube//BurstCube_969.194keV_0.00ze_0.00az.inc1.id1.sim\n",
      "Loading $BURSTCUBE/Simulation/MEGAlib/test/noahcube//BurstCube_1217.729keV_0.00ze_0.00az.inc1.id1.sim\n",
      "Loading $BURSTCUBE/Simulation/MEGAlib/test/noahcube//BurstCube_1529.998keV_0.00ze_0.00az.inc1.id1.sim\n",
      "Loading $BURSTCUBE/Simulation/MEGAlib/test/noahcube//BurstCube_1922.343keV_0.00ze_0.00az.inc1.id1.sim\n",
      "Loading $BURSTCUBE/Simulation/MEGAlib/test/noahcube//BurstCube_2415.299keV_0.00ze_0.00az.inc1.id1.sim\n",
      "Loading $BURSTCUBE/Simulation/MEGAlib/test/noahcube//BurstCube_3034.666keV_0.00ze_0.00az.inc1.id1.sim\n",
      "Loading $BURSTCUBE/Simulation/MEGAlib/test/noahcube//BurstCube_3812.861keV_0.00ze_0.00az.inc1.id1.sim\n",
      "Loading $BURSTCUBE/Simulation/MEGAlib/test/noahcube//BurstCube_4790.612keV_0.00ze_0.00az.inc1.id1.sim\n",
      "Loading $BURSTCUBE/Simulation/MEGAlib/test/noahcube//BurstCube_6019.093keV_0.00ze_0.00az.inc1.id1.sim\n",
      "Loading $BURSTCUBE/Simulation/MEGAlib/test/noahcube//BurstCube_7562.600keV_0.00ze_0.00az.inc1.id1.sim\n",
      "Loading $BURSTCUBE/Simulation/MEGAlib/test/noahcube//BurstCube_9501.916keV_0.00ze_0.00az.inc1.id1.sim\n",
      "Loading $BURSTCUBE/Simulation/MEGAlib/test/noahcube//BurstCube_11938.540keV_0.00ze_0.00az.inc1.id1.sim\n",
      "Loading $BURSTCUBE/Simulation/MEGAlib/test/noahcube//BurstCube_15000.000keV_0.00ze_0.00az.inc1.id1.sim\n",
      "Loading $BURSTCUBE/Simulation/MEGAlib/test/silicone//BurstCube_20.000keV_0.00ze_0.00az.inc1.id1.sim\n",
      "Loading $BURSTCUBE/Simulation/MEGAlib/test/silicone//BurstCube_104.664keV_0.00ze_0.00az.inc1.id1.sim\n",
      "Loading $BURSTCUBE/Simulation/MEGAlib/test/silicone//BurstCube_547.723keV_0.00ze_0.00az.inc1.id1.sim\n",
      "Loading $BURSTCUBE/Simulation/MEGAlib/test/silicone//BurstCube_2866.328keV_0.00ze_0.00az.inc1.id1.sim\n",
      "Loading $BURSTCUBE/Simulation/MEGAlib/test/silicone//BurstCube_15000.000keV_0.00ze_0.00az.inc1.id1.sim\n",
      "Loading $BURSTCUBE/Simulation/MEGAlib/test/teflon//BurstCube_20.000keV_0.00ze_0.00az.inc1.id1.sim\n",
      "Loading $BURSTCUBE/Simulation/MEGAlib/test/teflon//BurstCube_104.664keV_0.00ze_0.00az.inc1.id1.sim\n",
      "Loading $BURSTCUBE/Simulation/MEGAlib/test/teflon//BurstCube_547.723keV_0.00ze_0.00az.inc1.id1.sim\n",
      "Loading $BURSTCUBE/Simulation/MEGAlib/test/teflon//BurstCube_2866.328keV_0.00ze_0.00az.inc1.id1.sim\n",
      "Loading $BURSTCUBE/Simulation/MEGAlib/test/teflon//BurstCube_15000.000keV_0.00ze_0.00az.inc1.id1.sim\n"
     ]
    }
   ],
   "source": [
    "geodir = '/Users/noahkasmanoff/BurstCube/Simulation/MEGAlib/geo/'\n",
    "os.chdir(geodir)\n",
    "sims_E = [simFiles(config_file) for config_file in config_files_E]"
   ]
  },
  {
   "cell_type": "code",
   "execution_count": 29,
   "metadata": {},
   "outputs": [
    {
     "data": {
      "image/png": "[encoded data removed]",
      "text/plain": [
       "<matplotlib.figure.Figure at 0x106c19a20>"
      ]
     },
     "metadata": {},
     "output_type": "display_data"
    }
   ],
   "source": [
    "plotAeffComparison(sims_E[:2], names[:2], compareTo='Control')"
   ]
  },
  {
   "cell_type": "markdown",
   "metadata": {},
   "source": [
    "This is in the /geo directory, do I need to go back to it?"
   ]
  },
  {
   "cell_type": "code",
   "execution_count": 17,
   "metadata": {},
   "outputs": [
    {
     "name": "stdout",
     "output_type": "stream",
     "text": [
      "> \u001b[0;32m/Users/noahkasmanoff/BurstCube/Simulation/MEGAlib/bin/bcSim.py\u001b[0m(271)\u001b[0;36mgetEresFromFile\u001b[0;34m()\u001b[0m\n",
      "\u001b[0;32m    269 \u001b[0;31m        \u001b[0meres_lines\u001b[0m \u001b[0;34m=\u001b[0m \u001b[0;34m[\u001b[0m\u001b[0;34m]\u001b[0m\u001b[0;34m\u001b[0m\u001b[0m\n",
      "\u001b[0m\u001b[0;32m    270 \u001b[0;31m        \u001b[0mfilename\u001b[0m \u001b[0;34m=\u001b[0m \u001b[0mpath\u001b[0m\u001b[0;34m.\u001b[0m\u001b[0mexpandvars\u001b[0m\u001b[0;34m(\u001b[0m\u001b[0mfilename\u001b[0m\u001b[0;34m)\u001b[0m\u001b[0;34m\u001b[0m\u001b[0m\n",
      "\u001b[0m\u001b[0;32m--> 271 \u001b[0;31m        \u001b[0;32mwith\u001b[0m \u001b[0mopen\u001b[0m\u001b[0;34m(\u001b[0m\u001b[0mfilename\u001b[0m\u001b[0;34m)\u001b[0m \u001b[0;32mas\u001b[0m \u001b[0mf\u001b[0m\u001b[0;34m:\u001b[0m\u001b[0;34m\u001b[0m\u001b[0m\n",
      "\u001b[0m\u001b[0;32m    272 \u001b[0;31m            \u001b[0;32mfor\u001b[0m \u001b[0mline\u001b[0m \u001b[0;32min\u001b[0m \u001b[0mf\u001b[0m\u001b[0;34m:\u001b[0m\u001b[0;34m\u001b[0m\u001b[0m\n",
      "\u001b[0m\u001b[0;32m    273 \u001b[0;31m                \u001b[0;32mif\u001b[0m \u001b[0mcommentString\u001b[0m \u001b[0;32mnot\u001b[0m \u001b[0;32min\u001b[0m \u001b[0mline\u001b[0m\u001b[0;34m:\u001b[0m\u001b[0;34m\u001b[0m\u001b[0m\n",
      "\u001b[0m\n",
      "ipdb> filename\n",
      "'CalorimeterCSIProperties.det'\n",
      "ipdb> import os\n",
      "ipdb> os.getcwd()\n",
      "'/Users/noahkasmanoff/BurstCube/Simulation/MEGAlib/bin'\n",
      "ipdb> exit\n"
     ]
    }
   ],
   "source": []
  },
  {
   "cell_type": "code",
   "execution_count": null,
   "metadata": {
    "collapsed": true
   },
   "outputs": [],
   "source": [
    "config_files_E = glob(testdir + 'configE*.yaml')"
   ]
  },
  {
   "cell_type": "code",
   "execution_count": null,
   "metadata": {
    "collapsed": true
   },
   "outputs": [],
   "source": [
    "d"
   ]
  },
  {
   "cell_type": "code",
   "execution_count": null,
   "metadata": {
    "collapsed": true
   },
   "outputs": [],
   "source": [
    "del config_files_E[0]\n",
    "config_files_E"
   ]
  },
  {
   "cell_type": "code",
   "execution_count": null,
   "metadata": {
    "collapsed": true
   },
   "outputs": [],
   "source": [
    "names = ['Teflon', 'Silicone']"
   ]
  },
  {
   "cell_type": "code",
   "execution_count": null,
   "metadata": {
    "collapsed": true
   },
   "outputs": [],
   "source": [
    "%matplotlib inline\n",
    "import matplotlib.pyplot as plt"
   ]
  },
  {
   "cell_type": "code",
   "execution_count": null,
   "metadata": {
    "collapsed": true
   },
   "outputs": [],
   "source": [
    "from plotSim import plotAeffComparison, plotThetaComparison\n",
    "from bcSim import simFiles\n",
    "from glob import glob"
   ]
  },
  {
   "cell_type": "code",
   "execution_count": null,
   "metadata": {
    "collapsed": true
   },
   "outputs": [],
   "source": [
    "sims_E = [simFiles(config_file) for config_file in config_files_E]"
   ]
  },
  {
   "cell_type": "code",
   "execution_count": null,
   "metadata": {
    "collapsed": true
   },
   "outputs": [],
   "source": [
    "plotAeffComparison(sims_E, names, compareTo='Teflon')"
   ]
  },
  {
   "cell_type": "code",
   "execution_count": null,
   "metadata": {
    "collapsed": true
   },
   "outputs": [],
   "source": [
    "aeffs_E = [sim.calculateAeff(useEres=False) for sim in sims_E]"
   ]
  },
  {
   "cell_type": "code",
   "execution_count": null,
   "metadata": {
    "collapsed": true
   },
   "outputs": [],
   "source": [
    "aeffs_E"
   ]
  },
  {
   "cell_type": "markdown",
   "metadata": {},
   "source": [
    "I'd like to point out I am using a much smaller energy range than the one on the given example, but as far as I can tell from here the trend looks correct. Will look more into understanding how to do this for angular dependences next!"
   ]
  },
  {
   "cell_type": "code",
   "execution_count": null,
   "metadata": {
    "collapsed": true
   },
   "outputs": [],
   "source": []
  },
  {
   "cell_type": "code",
   "execution_count": null,
   "metadata": {
    "collapsed": true
   },
   "outputs": [],
   "source": [
    "import plotSim"
   ]
  },
  {
   "cell_type": "code",
   "execution_count": null,
   "metadata": {
    "collapsed": true
   },
   "outputs": [],
   "source": [
    "from bcSim import simFiles\n"
   ]
  },
  {
   "cell_type": "code",
   "execution_count": null,
   "metadata": {
    "collapsed": true
   },
   "outputs": [],
   "source": [
    "sfs = simFiles(testdir + 'configsilicone.yaml')"
   ]
  },
  {
   "cell_type": "code",
   "execution_count": null,
   "metadata": {
    "collapsed": true
   },
   "outputs": [],
   "source": [
    "#Need to iterate through files\n"
   ]
  },
  {
   "cell_type": "code",
   "execution_count": null,
   "metadata": {
    "collapsed": true
   },
   "outputs": [],
   "source": [
    "import plotSim"
   ]
  },
  {
   "cell_type": "markdown",
   "metadata": {},
   "source": [
    "plotSim.plotAeff = all the sim files in here, and that's what I need to use"
   ]
  },
  {
   "cell_type": "code",
   "execution_count": null,
   "metadata": {
    "collapsed": true
   },
   "outputs": [],
   "source": [
    "import bcSim"
   ]
  },
  {
   "cell_type": "code",
   "execution_count": null,
   "metadata": {
    "collapsed": true,
    "scrolled": false
   },
   "outputs": [],
   "source": [
    "plotSim.plotAeff(sfs)"
   ]
  },
  {
   "cell_type": "code",
   "execution_count": null,
   "metadata": {
    "collapsed": true
   },
   "outputs": [],
   "source": []
  }
 ],
 "metadata": {
  "kernelspec": {
   "display_name": "Python 3",
   "language": "python",
   "name": "python3"
  },
  "language_info": {
   "codemirror_mode": {
    "name": "ipython",
    "version": 3
   },
   "file_extension": ".py",
   "mimetype": "text/x-python",
   "name": "python",
   "nbconvert_exporter": "python",
   "pygments_lexer": "ipython3",
   "version": "3.6.1"
  }
 },
 "nbformat": 4,
 "nbformat_minor": 2
}
